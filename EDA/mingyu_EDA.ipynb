{
 "cells": [
  {
   "cell_type": "markdown",
   "id": "45053aa1",
   "metadata": {
    "id": "45053aa1"
   },
   "source": [
    "# Movie Recommendation - Mission 1\n",
    "\n",
    "### Movielense Dataset EDA\n",
    "\n",
    "\n",
    "EDA(Exploratory Data Analysis)는 데이터셋을 다양한 각도에서 관찰하고 인사이트를 얻을 수 있는 중요한 데이터 분석 과정입니다. 이를 잘 수행하여 데이터의 특징과 분포에 대해 깊은 이해도를 가진다면, 모델의 성능에도 큰 영향을 끼칠 수 있습니다.\n",
    "\n",
    "본 미션에서는 Movie Recommendation 대회\b를 위해 제공되는 [movielens](https://grouplens.org/datasets/movielens/) 를 재구성한 대회 데이터셋에 대한 EDA를 진행하고, 학습 데이터에 더불어 영화의 side-information 데이터에 대해 이해하는 시간을 가져보겠습니다!"
   ]
  },
  {
   "cell_type": "markdown",
   "id": "b28aa9ba",
   "metadata": {
    "id": "b28aa9ba",
    "jp-MarkdownHeadingCollapsed": true,
    "tags": []
   },
   "source": [
    "## 대회 데이터셋 구성\n",
    "먼저 데이터셋의 구성을 살펴봅니다.\n",
    "\n",
    "### data\n",
    "    ├── directors.tsv\n",
    "    ├── genres.tsv\n",
    "    ├── titles.tsv\n",
    "    ├── train_ratings.csv\n",
    "    ├── writers.tsv\n",
    "    └── years.tsv\n",
    "    \n",
    "1. *train_ratings.csv* : 전체 훈련 데이터.\n",
    "2. *directors.tsv*, *genres.tsv*, *writers.tsv*, *years.tsv*, *titles.tsv* : 영화의 side-information 데이터."
   ]
  },
  {
   "cell_type": "markdown",
   "id": "5ded44aa",
   "metadata": {
    "id": "5ded44aa"
   },
   "source": [
    "## train/test 데이터셋 알아보기"
   ]
  },
  {
   "cell_type": "markdown",
   "id": "1ae0ba40",
   "metadata": {
    "id": "1ae0ba40"
   },
   "source": [
    "Pandas를 이용하여 train 데이터를 로드하고 데이터 구성을 알아봅니다. 이어지는 코드를 실행하면 데이터셋의 간략한 정보와 샘플을 확인할 수 있습니다.\n",
    "\n",
    "train 데이터셋은 *user, item, time* 세개의 column으로 구성된 반면, test 데이터셋은 *user* column과 비어있는 *item* column으로 구성되어 있음을 참고해 주세요. 대회 진행시, 각각의 사용자에게 10개의 영화를 추천하게 됩니다.\n",
    "\n",
    "각 column은 다음을 나타냅니다.\n",
    "- *user*: 사용자 id.\n",
    "- *item*: 영화 id.\n",
    "- *time*: 사용자가 해당 영화와 interact한 시간. (UNIX시간 - 1970년 1월 1일 0시 0분 0초 UTC(협정 세계시)에서부터 몇 초나 지났는지를 표시 - 의 초 단위)\n",
    "\n",
    "\n",
    "영화 id는 *directors.tsv, genres.tsv, writers.tsv, years.tsv, titles.tsv*에서도 일관적으로 사용됩니다. 즉, 동일한 영화 id는 side information 데이터셋에서 동일한 영화를 나타냅니다.\n",
    "\n",
    "이어지는 cell들을 실행해서 직접 관찰해보세요!"
   ]
  },
  {
   "cell_type": "markdown",
   "id": "833c474c-68ba-4fbf-bcf6-ad33ecdd8ee6",
   "metadata": {
    "jp-MarkdownHeadingCollapsed": true,
    "tags": []
   },
   "source": [
    "- 마지막 sequence의 item만을 예측하는 것이 아니다.\n",
    "![image](https://user-images.githubusercontent.com/85151359/159682093-98ba9bc8-3360-49b9-8bfa-2c886a024bd5.png)\n",
    "\n",
    "- 평가지표 \n",
    "\n",
    "0과 1사이로 normalize된 Recall@10\n",
    "\n",
    "<img src=https://user-images.githubusercontent.com/85151359/159682628-bd6f02c6-11bb-467e-98f5-14c8ca867e88.png width=500>"
   ]
  },
  {
   "cell_type": "markdown",
   "id": "HBz2c1NDjzNx",
   "metadata": {
    "id": "HBz2c1NDjzNx"
   },
   "source": [
    "## 데이터 다운로드\n",
    "이곳에 대회 사이트(AI Stages)에 있는 data의 URL을 입력해주세요. \n",
    "- 데이터 URL은 변경될 수 있습니다.\n",
    "- 예) `!wget https://aistages-prod-server-public.s3.amazonaws.com/app/Competitions/000176/data/data.tar.gz`"
   ]
  },
  {
   "cell_type": "code",
   "execution_count": 1,
   "id": "7sOZ6xAXLbnC",
   "metadata": {
    "id": "7sOZ6xAXLbnC"
   },
   "outputs": [],
   "source": [
    "# !wget <대회 데이터 URL>\n",
    "# !tar -xf data.tar.gz"
   ]
  },
  {
   "cell_type": "code",
   "execution_count": 2,
   "id": "063a71d8",
   "metadata": {
    "id": "063a71d8"
   },
   "outputs": [],
   "source": [
    "import pandas as pd\n",
    "import numpy as np\n",
    "import os\n",
    "import seaborn as sns\n",
    "from matplotlib import pyplot as plt\n",
    "from collections import Counter\n",
    "import datetime"
   ]
  },
  {
   "cell_type": "code",
   "execution_count": 3,
   "id": "2395a275",
   "metadata": {
    "id": "2395a275"
   },
   "outputs": [],
   "source": [
    "data_path = '../input/data/train'\n",
    "train_df = pd.read_csv(os.path.join(data_path, 'train_ratings.csv')) # 전체 학습 데이터"
   ]
  },
  {
   "cell_type": "code",
   "execution_count": 4,
   "id": "d82cb038",
   "metadata": {
    "id": "d82cb038"
   },
   "outputs": [
    {
     "name": "stdout",
     "output_type": "stream",
     "text": [
      "<class 'pandas.core.frame.DataFrame'>\n",
      "RangeIndex: 5154471 entries, 0 to 5154470\n",
      "Data columns (total 3 columns):\n",
      " #   Column  Dtype\n",
      "---  ------  -----\n",
      " 0   user    int64\n",
      " 1   item    int64\n",
      " 2   time    int64\n",
      "dtypes: int64(3)\n",
      "memory usage: 118.0 MB\n"
     ]
    },
    {
     "data": {
      "text/html": [
       "<div>\n",
       "<style scoped>\n",
       "    .dataframe tbody tr th:only-of-type {\n",
       "        vertical-align: middle;\n",
       "    }\n",
       "\n",
       "    .dataframe tbody tr th {\n",
       "        vertical-align: top;\n",
       "    }\n",
       "\n",
       "    .dataframe thead th {\n",
       "        text-align: right;\n",
       "    }\n",
       "</style>\n",
       "<table border=\"1\" class=\"dataframe\">\n",
       "  <thead>\n",
       "    <tr style=\"text-align: right;\">\n",
       "      <th></th>\n",
       "      <th>user</th>\n",
       "      <th>item</th>\n",
       "      <th>time</th>\n",
       "    </tr>\n",
       "  </thead>\n",
       "  <tbody>\n",
       "    <tr>\n",
       "      <th>1130414</th>\n",
       "      <td>29735</td>\n",
       "      <td>1089</td>\n",
       "      <td>1174795381</td>\n",
       "    </tr>\n",
       "    <tr>\n",
       "      <th>3865524</th>\n",
       "      <td>103196</td>\n",
       "      <td>1200</td>\n",
       "      <td>1146077130</td>\n",
       "    </tr>\n",
       "    <tr>\n",
       "      <th>616033</th>\n",
       "      <td>16394</td>\n",
       "      <td>296</td>\n",
       "      <td>1350437854</td>\n",
       "    </tr>\n",
       "    <tr>\n",
       "      <th>3102997</th>\n",
       "      <td>82789</td>\n",
       "      <td>7762</td>\n",
       "      <td>1257290255</td>\n",
       "    </tr>\n",
       "    <tr>\n",
       "      <th>1935156</th>\n",
       "      <td>51367</td>\n",
       "      <td>5299</td>\n",
       "      <td>1377065092</td>\n",
       "    </tr>\n",
       "  </tbody>\n",
       "</table>\n",
       "</div>"
      ],
      "text/plain": [
       "           user  item        time\n",
       "1130414   29735  1089  1174795381\n",
       "3865524  103196  1200  1146077130\n",
       "616033    16394   296  1350437854\n",
       "3102997   82789  7762  1257290255\n",
       "1935156   51367  5299  1377065092"
      ]
     },
     "execution_count": 4,
     "metadata": {},
     "output_type": "execute_result"
    }
   ],
   "source": [
    "train_df.info()\n",
    "train_df.sample(5)"
   ]
  },
  {
   "cell_type": "code",
   "execution_count": 5,
   "id": "ade4818e",
   "metadata": {
    "id": "ade4818e"
   },
   "outputs": [
    {
     "name": "stdout",
     "output_type": "stream",
     "text": [
      "Number of unique train users:  31360\n",
      "Number of unique train items:  6807\n"
     ]
    }
   ],
   "source": [
    "num_train_users = train_df['user'].nunique()\n",
    "num_train_items = train_df['item'].nunique()\n",
    "\n",
    "print (\"Number of unique train users: \", num_train_users)\n",
    "print (\"Number of unique train items: \", num_train_items)"
   ]
  },
  {
   "cell_type": "code",
   "execution_count": 6,
   "id": "e70feca4",
   "metadata": {
    "id": "e70feca4"
   },
   "outputs": [
    {
     "name": "stdout",
     "output_type": "stream",
     "text": [
      "Data sparsity ratio:  0.9758536052697853\n"
     ]
    }
   ],
   "source": [
    "print(\"Data sparsity ratio: \", 1 - len(train_df) / (num_train_users * num_train_items))"
   ]
  },
  {
   "cell_type": "markdown",
   "id": "0c59f9d8",
   "metadata": {
    "id": "0c59f9d8"
   },
   "source": [
    "데이터의 sparsity ratio는 약 97.6%로 일반적인 추천 시스템 데이터셋에 비해 굉장히 dense한 (행렬 상 이력의 많은 부분이 채워져 있는) 데이터임을 알 수 있습니다."
   ]
  },
  {
   "cell_type": "markdown",
   "id": "57fb7b80-acb0-4d4c-b1c9-840e805d920f",
   "metadata": {},
   "source": [
    "## 유저 별 interaction의 수 파악\n",
    "- 비정상적으로 interaction이 많은 유저들이 있다.\n",
    "- 특정 개수 이상의 interaction을 가진 유저의 경우 임의의 N개만을 학습에 사용하는 것이 좋을 수 있겠다."
   ]
  },
  {
   "cell_type": "code",
   "execution_count": 7,
   "id": "58b9bdeb-02df-41d8-b181-790e461a4ca3",
   "metadata": {},
   "outputs": [
    {
     "name": "stdout",
     "output_type": "stream",
     "text": [
      "iteraction이 가장 많은 유저 20명\n",
      "user_id , 개수\n",
      "8405 \t 2912\n",
      "54465 \t 1980\n",
      "24219 \t 1842\n",
      "32514 \t 1830\n",
      "91349 \t 1795\n",
      "131904 \t 1762\n",
      "34576 \t 1760\n",
      "99754 \t 1673\n",
      "31122 \t 1644\n",
      "118754 \t 1627\n",
      "71975 \t 1601\n",
      "113806 \t 1590\n",
      "41283 \t 1571\n",
      "16938 \t 1545\n",
      "54107 \t 1536\n",
      "119048 \t 1526\n",
      "131894 \t 1518\n",
      "62040 \t 1518\n",
      "120575 \t 1508\n",
      "53998 \t 1508\n",
      "iteraction이 가장 적은 유저 20명\n",
      "user_id , 개수\n",
      "53188 \t 16\n",
      "68606 \t 19\n",
      "105578 \t 22\n",
      "128756 \t 28\n",
      "11211 \t 32\n",
      "37385 \t 34\n",
      "88996 \t 34\n",
      "10575 \t 35\n",
      "3679 \t 37\n",
      "9581 \t 38\n",
      "96757 \t 38\n",
      "104701 \t 38\n",
      "116859 \t 38\n",
      "122299 \t 38\n",
      "21070 \t 39\n",
      "54309 \t 39\n",
      "62335 \t 39\n",
      "118343 \t 39\n",
      "120197 \t 39\n",
      "132598 \t 39\n",
      "\n",
      "평균: 164.36450892857144개\n",
      "중앙값: 114.0개\n",
      "25% percentile: 71.0개\n",
      "75% percentile: 200.0개\n"
     ]
    },
    {
     "data": {
      "text/plain": [
       "<AxesSubplot:>"
      ]
     },
     "execution_count": 7,
     "metadata": {},
     "output_type": "execute_result"
    },
    {
     "data": {
      "image/png": "[encoded data removed]",
      "text/plain": [
       "<Figure size 432x288 with 1 Axes>"
      ]
     },
     "metadata": {
      "needs_background": "light"
     },
     "output_type": "display_data"
    }
   ],
   "source": [
    "c = Counter(train_df[\"user\"])\n",
    "tmp = sorted(c.items(), key = lambda x: x[1])\n",
    "n = 20\n",
    "print(f\"iteraction이 가장 많은 유저 {n}명\")\n",
    "print(\"user_id , 개수\")\n",
    "for x,y in tmp[-n:][::-1]:\n",
    "    print(x,\"\\t\",y)\n",
    "print(f\"iteraction이 가장 적은 유저 {n}명\")\n",
    "print(\"user_id , 개수\")\n",
    "for x,y in tmp[:n]:\n",
    "    print(x,\"\\t\",y)\n",
    "print()\n",
    "tmp2 = list(c.values())\n",
    "print(f\"평균: {np.mean(tmp2)}개\")\n",
    "print(f\"중앙값: {np.median(tmp2)}개\")\n",
    "print(f\"25% percentile: {np.percentile(tmp2,q=25)}개\")\n",
    "print(f\"75% percentile: {np.percentile(tmp2,q=75)}개\")\n",
    "sns.boxplot(x=tmp2)"
   ]
  },
  {
   "cell_type": "markdown",
   "id": "345dd3ce-25d3-4af5-9f3b-50bf58f6e112",
   "metadata": {},
   "source": [
    "- 다행히 timestamp만 다른 중복된 interaction은 존재하지 않는다."
   ]
  },
  {
   "cell_type": "code",
   "execution_count": 8,
   "id": "5791638a-a290-4530-b561-e111ca6e07fa",
   "metadata": {},
   "outputs": [
    {
     "name": "stdout",
     "output_type": "stream",
     "text": [
      "True\n"
     ]
    }
   ],
   "source": [
    "tmp = [(x,y) for x,y in zip(train_df[\"user\"], train_df[\"item\"])]\n",
    "print(len(set(tmp))==len(train_df))"
   ]
  },
  {
   "cell_type": "markdown",
   "id": "d5270ea5-672c-48ac-9600-2a587a95ce31",
   "metadata": {},
   "source": [
    "- 2005년 4월부터 2015년 3월까지의 데이터가 존재한다."
   ]
  },
  {
   "cell_type": "code",
   "execution_count": 9,
   "id": "07cb8637-2712-4500-95e8-1c008d48e65a",
   "metadata": {},
   "outputs": [
    {
     "name": "stdout",
     "output_type": "stream",
     "text": [
      "가장 오래된 데이터: 2005-04-11 11:56:25\n",
      "가장 최근 데이터: 2015-03-31 05:50:52\n"
     ]
    }
   ],
   "source": [
    "min_ = datetime.datetime.fromtimestamp(train_df[\"time\"].min()).strftime('%Y-%m-%d %H:%M:%S')\n",
    "max_ = datetime.datetime.fromtimestamp(train_df[\"time\"].max()).strftime('%Y-%m-%d %H:%M:%S')\n",
    "print(f\"가장 오래된 데이터: {min_}\")\n",
    "print(f\"가장 최근 데이터: {max_}\")"
   ]
  },
  {
   "cell_type": "code",
   "execution_count": 10,
   "id": "42c4b0cc-141a-483b-b0a3-c6e8c5dcf748",
   "metadata": {},
   "outputs": [],
   "source": [
    "def unix_to_date(x):\n",
    "    return datetime.datetime.fromtimestamp(x).strftime('%Y-%m')\n",
    "df_month = train_df[\"time\"].apply(unix_to_date)"
   ]
  },
  {
   "cell_type": "code",
   "execution_count": 11,
   "id": "6b6efd1b-2196-40af-902f-dad3fbffdf7b",
   "metadata": {},
   "outputs": [],
   "source": [
    "c = Counter(df_month)"
   ]
  },
  {
   "cell_type": "markdown",
   "id": "db1eeb22-4bc4-4a0a-ae1b-ee0e340eb71f",
   "metadata": {},
   "source": [
    "- 월별 interaction의 수를 보면 시간에 따라 줄어드는 경향성을 보인다.\n",
    "- 별도의 조치는 필요하지 않아 보인다."
   ]
  },
  {
   "cell_type": "code",
   "execution_count": 12,
   "id": "7c0b8030-d3c7-42d2-94b1-f9d6143a9847",
   "metadata": {},
   "outputs": [
    {
     "data": {
      "image/png": "[encoded data removed]",
      "text/plain": [
       "<Figure size 1440x432 with 1 Axes>"
      ]
     },
     "metadata": {
      "needs_background": "light"
     },
     "output_type": "display_data"
    },
    {
     "name": "stdout",
     "output_type": "stream",
     "text": [
      "월 평균 interaction 수: 42953.925개\n"
     ]
    }
   ],
   "source": [
    "plt.figure(figsize=(20,6))\n",
    "xx_ = []; yy_ = []\n",
    "for x,y in sorted(c.items(), key = lambda x:x[0]):\n",
    "    xx_.append(x)\n",
    "    yy_.append(y)\n",
    "sns.lineplot(x = xx_, y = yy_)\n",
    "plt.xticks(rotation=90)\n",
    "plt.axhline(y=np.mean(yy_), color='r', linewidth=1, linestyle='--')\n",
    "plt.show()\n",
    "print(f\"월 평균 interaction 수: {np.mean(yy_)}개\")"
   ]
  },
  {
   "cell_type": "markdown",
   "id": "88d60816",
   "metadata": {
    "id": "88d60816",
    "tags": []
   },
   "source": [
    "## Side Information 알아보기"
   ]
  },
  {
   "cell_type": "markdown",
   "id": "55547258",
   "metadata": {
    "id": "55547258"
   },
   "source": [
    "다음은 side information 데이터를 알아봅니다. 일반적으로 추천시스템에서는 side information을 더욱 잘 활용할수록 더 좋은 추천 결과를 얻을 수 있게 됩니다.\n",
    "\n",
    "주어진 year, writer, title, genre, director 데이터를 불러옵니다. 마찬가지로 각 데이터의 간략한 정보를 확인하고 샘플을 미리 저장해보겠습니다. 샘플된 데이터는 뒤에서도 계속 사용할 예정인 점을 참고해주세요! 그럼 다음 코드를 실행해보겠습니다."
   ]
  },
  {
   "cell_type": "code",
   "execution_count": 13,
   "id": "b20edc66",
   "metadata": {
    "id": "b20edc66"
   },
   "outputs": [],
   "source": [
    "year_data = pd.read_csv(os.path.join(data_path, 'years.tsv'), sep='\\t')\n",
    "writer_data = pd.read_csv(os.path.join(data_path, 'writers.tsv'), sep='\\t')\n",
    "title_data = pd.read_csv(os.path.join(data_path, 'titles.tsv'), sep='\\t')\n",
    "genre_data = pd.read_csv(os.path.join(data_path, 'genres.tsv'), sep='\\t')\n",
    "director_data = pd.read_csv(os.path.join(data_path, 'directors.tsv'), sep='\\t')"
   ]
  },
  {
   "cell_type": "markdown",
   "id": "ca522257",
   "metadata": {
    "id": "ca522257"
   },
   "source": [
    "그러면 먼저 *years.tsv* 데이터를 알아보겠습니다. \n",
    "각 column은 다음과 같은 정보를 담고 있습니다:\n",
    "- *item* : 영화 id.\n",
    "- *year* : 해당 영화가 개봉한 연도.\n",
    "\n",
    "다음 코드를 실행하여 각 column의 data type과 같은 정보를 파악하고, 샘플 데이터를 출력해봅니다.\n",
    "\n",
    "그리고 바로 이어지는 cell을 실행하여 추가적인 통계도 확인합니다. 데이터셋에 한 번 이상 출현하는 영화 작품은 총 6799편이며 평균 개봉 연도는 1992년인 등의 정보를 파악할 수 있습니다."
   ]
  },
  {
   "cell_type": "code",
   "execution_count": 14,
   "id": "49f7373b",
   "metadata": {
    "id": "49f7373b"
   },
   "outputs": [
    {
     "name": "stdout",
     "output_type": "stream",
     "text": [
      "<class 'pandas.core.frame.DataFrame'>\n",
      "RangeIndex: 6799 entries, 0 to 6798\n",
      "Data columns (total 2 columns):\n",
      " #   Column  Non-Null Count  Dtype\n",
      "---  ------  --------------  -----\n",
      " 0   item    6799 non-null   int64\n",
      " 1   year    6799 non-null   int64\n",
      "dtypes: int64(2)\n",
      "memory usage: 106.4 KB\n"
     ]
    },
    {
     "data": {
      "text/html": [
       "<div>\n",
       "<style scoped>\n",
       "    .dataframe tbody tr th:only-of-type {\n",
       "        vertical-align: middle;\n",
       "    }\n",
       "\n",
       "    .dataframe tbody tr th {\n",
       "        vertical-align: top;\n",
       "    }\n",
       "\n",
       "    .dataframe thead th {\n",
       "        text-align: right;\n",
       "    }\n",
       "</style>\n",
       "<table border=\"1\" class=\"dataframe\">\n",
       "  <thead>\n",
       "    <tr style=\"text-align: right;\">\n",
       "      <th></th>\n",
       "      <th>item</th>\n",
       "      <th>year</th>\n",
       "    </tr>\n",
       "  </thead>\n",
       "  <tbody>\n",
       "    <tr>\n",
       "      <th>2519</th>\n",
       "      <td>3440</td>\n",
       "      <td>1993</td>\n",
       "    </tr>\n",
       "    <tr>\n",
       "      <th>5912</th>\n",
       "      <td>66198</td>\n",
       "      <td>2009</td>\n",
       "    </tr>\n",
       "    <tr>\n",
       "      <th>4240</th>\n",
       "      <td>7147</td>\n",
       "      <td>2003</td>\n",
       "    </tr>\n",
       "    <tr>\n",
       "      <th>2231</th>\n",
       "      <td>4392</td>\n",
       "      <td>1990</td>\n",
       "    </tr>\n",
       "    <tr>\n",
       "      <th>642</th>\n",
       "      <td>1013</td>\n",
       "      <td>1961</td>\n",
       "    </tr>\n",
       "  </tbody>\n",
       "</table>\n",
       "</div>"
      ],
      "text/plain": [
       "       item  year\n",
       "2519   3440  1993\n",
       "5912  66198  2009\n",
       "4240   7147  2003\n",
       "2231   4392  1990\n",
       "642    1013  1961"
      ]
     },
     "execution_count": 14,
     "metadata": {},
     "output_type": "execute_result"
    }
   ],
   "source": [
    "year_data.info()\n",
    "year_data.sample(5)"
   ]
  },
  {
   "cell_type": "code",
   "execution_count": 15,
   "id": "b3a7219e",
   "metadata": {
    "id": "b3a7219e"
   },
   "outputs": [
    {
     "name": "stdout",
     "output_type": "stream",
     "text": [
      "Year data shape:  (6799, 2)\n",
      "Number of unique items in year_df:  6799\n",
      "Number of unique years:  93\n",
      "\n",
      "Statistics of year data: \n"
     ]
    },
    {
     "data": {
      "text/plain": [
       "count    6799.000000\n",
       "mean     1992.174732\n",
       "std        19.052568\n",
       "min      1922.000000\n",
       "25%      1985.000000\n",
       "50%      1999.000000\n",
       "75%      2006.000000\n",
       "max      2014.000000\n",
       "Name: year, dtype: float64"
      ]
     },
     "execution_count": 15,
     "metadata": {},
     "output_type": "execute_result"
    }
   ],
   "source": [
    "print (\"Year data shape: \", year_data.shape)\n",
    "print(\"Number of unique items in year_df: \", year_data['item'].nunique())\n",
    "print(\"Number of unique years: \", year_data['year'].nunique())\n",
    "print (\"\\nStatistics of year data: \")\n",
    "year_data['year'].describe()"
   ]
  },
  {
   "cell_type": "markdown",
   "id": "d819fd7d-9a47-4173-9069-181057e50ddc",
   "metadata": {},
   "source": [
    "- 1922년 ~ 2014년의 영화들이 존재. \n",
    "- right skewed"
   ]
  },
  {
   "cell_type": "code",
   "execution_count": 16,
   "id": "d9223f70-8d80-4e90-b845-f67bcab49f1c",
   "metadata": {},
   "outputs": [
    {
     "data": {
      "image/png": "[encoded data removed]",
      "text/plain": [
       "<Figure size 648x432 with 1 Axes>"
      ]
     },
     "metadata": {
      "needs_background": "light"
     },
     "output_type": "display_data"
    }
   ],
   "source": [
    "plt.figure(figsize = (9,6))\n",
    "ax = sns.countplot(x=year_data['year'])\n",
    "ax.set(xticklabels=[])\n",
    "plt.show()"
   ]
  },
  {
   "cell_type": "markdown",
   "id": "b3c7ccda",
   "metadata": {
    "id": "b3c7ccda"
   },
   "source": [
    "다음은 *writers.tsv* 데이터입니다. \n",
    "각 column은 다음과 같은 정보를 담고 있습니다:\n",
    "- *item* : 영화 id.\n",
    "- *writer* : 영화의 각본가. (익명화)\n",
    "\n",
    "다음 코드를 실행하여 각 column의 data type과 같은 정보를 파악하고, 샘플 데이터를 출력해봅니다."
   ]
  },
  {
   "cell_type": "code",
   "execution_count": 17,
   "id": "25f596a7",
   "metadata": {
    "id": "25f596a7"
   },
   "outputs": [
    {
     "name": "stdout",
     "output_type": "stream",
     "text": [
      "<class 'pandas.core.frame.DataFrame'>\n",
      "RangeIndex: 11306 entries, 0 to 11305\n",
      "Data columns (total 2 columns):\n",
      " #   Column  Non-Null Count  Dtype \n",
      "---  ------  --------------  ----- \n",
      " 0   item    11306 non-null  int64 \n",
      " 1   writer  11306 non-null  object\n",
      "dtypes: int64(1), object(1)\n",
      "memory usage: 176.8+ KB\n"
     ]
    },
    {
     "data": {
      "text/html": [
       "<div>\n",
       "<style scoped>\n",
       "    .dataframe tbody tr th:only-of-type {\n",
       "        vertical-align: middle;\n",
       "    }\n",
       "\n",
       "    .dataframe tbody tr th {\n",
       "        vertical-align: top;\n",
       "    }\n",
       "\n",
       "    .dataframe thead th {\n",
       "        text-align: right;\n",
       "    }\n",
       "</style>\n",
       "<table border=\"1\" class=\"dataframe\">\n",
       "  <thead>\n",
       "    <tr style=\"text-align: right;\">\n",
       "      <th></th>\n",
       "      <th>item</th>\n",
       "      <th>writer</th>\n",
       "    </tr>\n",
       "  </thead>\n",
       "  <tbody>\n",
       "    <tr>\n",
       "      <th>0</th>\n",
       "      <td>1237</td>\n",
       "      <td>nm0000005</td>\n",
       "    </tr>\n",
       "    <tr>\n",
       "      <th>1</th>\n",
       "      <td>5147</td>\n",
       "      <td>nm0000005</td>\n",
       "    </tr>\n",
       "  </tbody>\n",
       "</table>\n",
       "</div>"
      ],
      "text/plain": [
       "   item     writer\n",
       "0  1237  nm0000005\n",
       "1  5147  nm0000005"
      ]
     },
     "execution_count": 17,
     "metadata": {},
     "output_type": "execute_result"
    }
   ],
   "source": [
    "writer_data.info()\n",
    "writer_data.head(2)"
   ]
  },
  {
   "cell_type": "markdown",
   "id": "ac1f2716-f45d-4dcf-9191-3ce68dbade97",
   "metadata": {},
   "source": [
    "- title 정보가 있는 item이 6807개인 것으로 보아 작가 정보가 누락된 작품들이 있다."
   ]
  },
  {
   "cell_type": "code",
   "execution_count": 18,
   "id": "2502852e-3eea-4701-beda-5c79422bf951",
   "metadata": {},
   "outputs": [
    {
     "name": "stdout",
     "output_type": "stream",
     "text": [
      "5648\n"
     ]
    }
   ],
   "source": [
    "print(len((writer_data[\"item\"].unique())))"
   ]
  },
  {
   "cell_type": "markdown",
   "id": "fc7da95a-f1f3-4275-865e-ed490307ea33",
   "metadata": {},
   "source": [
    "- 작가마다 최소 2개에서 많게는 20개가 넘는 작품이 있다.\n",
    "- 전체 작가 수는 2989명"
   ]
  },
  {
   "cell_type": "code",
   "execution_count": 19,
   "id": "6f837045-71ae-49a0-8e9f-5ed95b0bfa4e",
   "metadata": {},
   "outputs": [
    {
     "name": "stdout",
     "output_type": "stream",
     "text": [
      "다작 상위 15명 \n",
      "\n",
      "   작가    |   작품 수\n",
      "nm0000095 \t 47\n",
      "nm0000636 \t 35\n",
      "nm0000175 \t 32\n",
      "nm0372942 \t 30\n",
      "nm0000108 \t 29\n",
      "nm0000697 \t 27\n",
      "nm0000455 \t 26\n",
      "nm0001220 \t 25\n",
      "nm0000041 \t 23\n",
      "nm0744429 \t 21\n",
      "nm0254645 \t 20\n",
      "nm0462895 \t 20\n",
      "nm0000519 \t 19\n",
      "nm0001279 \t 19\n",
      "nm0004170 \t 19\n"
     ]
    }
   ],
   "source": [
    "n = 15\n",
    "c= Counter(writer_data['writer'])\n",
    "print(f\"다작 상위 {n}명 \\n\")\n",
    "print(\"   작가    |   작품 수\")\n",
    "for x,y in c.most_common(n):\n",
    "    print(x, \"\\t\", y)"
   ]
  },
  {
   "cell_type": "code",
   "execution_count": 20,
   "id": "8083b782-130c-4c91-a532-4cf73d9e8d09",
   "metadata": {},
   "outputs": [
    {
     "name": "stdout",
     "output_type": "stream",
     "text": [
      "다작 하위 15명 \n",
      "\n",
      "   작가    |   작품 수\n",
      "nm0000036 \t 2\n",
      "nm0000114 \t 2\n",
      "nm0000120 \t 2\n",
      "nm0000160 \t 2\n",
      "nm0000165 \t 2\n",
      "nm0000235 \t 2\n",
      "nm0000354 \t 2\n",
      "nm0000436 \t 2\n",
      "nm0000492 \t 2\n",
      "nm0000532 \t 2\n",
      "nm0000540 \t 2\n",
      "nm0000559 \t 2\n",
      "nm0000583 \t 2\n",
      "nm0000632 \t 2\n",
      "nm0000634 \t 2\n"
     ]
    }
   ],
   "source": [
    "print(f\"다작 하위 {n}명 \\n\")\n",
    "print(\"   작가    |   작품 수\")\n",
    "for x,y in sorted(c.items(), key=lambda x: x[1])[:15]:\n",
    "    print(x, \"\\t\", y)"
   ]
  },
  {
   "cell_type": "code",
   "execution_count": 21,
   "id": "d63c1440-51e0-4558-bef3-ca5ad00de8ec",
   "metadata": {},
   "outputs": [
    {
     "name": "stdout",
     "output_type": "stream",
     "text": [
      "전체 감독 수: 2989명\n"
     ]
    }
   ],
   "source": [
    "print( f\"전체 감독 수: {len(writer_data['writer'].unique())}명\")"
   ]
  },
  {
   "cell_type": "markdown",
   "id": "8395305b",
   "metadata": {
    "id": "8395305b"
   },
   "source": [
    "다음은 *titles.tsv* 데이터입니다. \n",
    "각 column은 다음과 같은 정보를 담고 있습니다:\n",
    "- *item* : 영화 id.\n",
    "- *titles* : 영화 제목.\n",
    "\n",
    "다음 코드를 실행하여 각 column의 data type과 같은 정보를 파악하고, 샘플 데이터를 출력해봅니다."
   ]
  },
  {
   "cell_type": "code",
   "execution_count": 22,
   "id": "46ff3ecf",
   "metadata": {
    "id": "46ff3ecf"
   },
   "outputs": [
    {
     "name": "stdout",
     "output_type": "stream",
     "text": [
      "<class 'pandas.core.frame.DataFrame'>\n",
      "RangeIndex: 6807 entries, 0 to 6806\n",
      "Data columns (total 2 columns):\n",
      " #   Column  Non-Null Count  Dtype \n",
      "---  ------  --------------  ----- \n",
      " 0   item    6807 non-null   int64 \n",
      " 1   title   6807 non-null   object\n",
      "dtypes: int64(1), object(1)\n",
      "memory usage: 106.5+ KB\n"
     ]
    },
    {
     "data": {
      "text/html": [
       "<div>\n",
       "<style scoped>\n",
       "    .dataframe tbody tr th:only-of-type {\n",
       "        vertical-align: middle;\n",
       "    }\n",
       "\n",
       "    .dataframe tbody tr th {\n",
       "        vertical-align: top;\n",
       "    }\n",
       "\n",
       "    .dataframe thead th {\n",
       "        text-align: right;\n",
       "    }\n",
       "</style>\n",
       "<table border=\"1\" class=\"dataframe\">\n",
       "  <thead>\n",
       "    <tr style=\"text-align: right;\">\n",
       "      <th></th>\n",
       "      <th>item</th>\n",
       "      <th>title</th>\n",
       "    </tr>\n",
       "  </thead>\n",
       "  <tbody>\n",
       "    <tr>\n",
       "      <th>287</th>\n",
       "      <td>5377</td>\n",
       "      <td>About a Boy (2002)</td>\n",
       "    </tr>\n",
       "    <tr>\n",
       "      <th>4650</th>\n",
       "      <td>3257</td>\n",
       "      <td>Bodyguard, The (1992)</td>\n",
       "    </tr>\n",
       "    <tr>\n",
       "      <th>3467</th>\n",
       "      <td>2826</td>\n",
       "      <td>13th Warrior, The (1999)</td>\n",
       "    </tr>\n",
       "    <tr>\n",
       "      <th>4759</th>\n",
       "      <td>2404</td>\n",
       "      <td>Rambo III (1988)</td>\n",
       "    </tr>\n",
       "    <tr>\n",
       "      <th>2201</th>\n",
       "      <td>3645</td>\n",
       "      <td>Cleo from 5 to 7 (Cléo de 5 à 7) (1962)</td>\n",
       "    </tr>\n",
       "  </tbody>\n",
       "</table>\n",
       "</div>"
      ],
      "text/plain": [
       "      item                                    title\n",
       "287   5377                       About a Boy (2002)\n",
       "4650  3257                    Bodyguard, The (1992)\n",
       "3467  2826                 13th Warrior, The (1999)\n",
       "4759  2404                         Rambo III (1988)\n",
       "2201  3645  Cleo from 5 to 7 (Cléo de 5 à 7) (1962)"
      ]
     },
     "execution_count": 22,
     "metadata": {},
     "output_type": "execute_result"
    }
   ],
   "source": [
    "title_data.info()\n",
    "title_data.sample(5)"
   ]
  },
  {
   "cell_type": "markdown",
   "id": "91210bb3-4c8a-43f3-80a5-8b090d0783b6",
   "metadata": {},
   "source": [
    "- 제목의 연도 표기와 year_data의 정보는 모두 일치한다. (Big Bang Theory, Fawlty Towers만 표기가 이상함)\n",
    "- 다만 제목은 있지만 year_data에 item 목록에는 없는 영화들이 존재한다."
   ]
  },
  {
   "cell_type": "code",
   "execution_count": 23,
   "id": "a804174e-63cb-48a1-8ad5-4bedbf4fc7fd",
   "metadata": {},
   "outputs": [
    {
     "name": "stdout",
     "output_type": "stream",
     "text": [
      "제목만 있고 year_data에 없는 item 목록\n",
      "{32898, 119145, 6987, 6988, 7243, 3310, 7065, 8511}\n"
     ]
    }
   ],
   "source": [
    "print(\"제목만 있고 year_data에 없는 item 목록\")\n",
    "print(set(title_data[\"item\"].unique()) - set(year_data[\"item\"].unique()))"
   ]
  },
  {
   "cell_type": "markdown",
   "id": "20139edd-f4d0-4fd9-926a-e73fe49d1502",
   "metadata": {},
   "source": [
    "- 아래처럼 제목에서 제작 년도를 찾아 결측치를 채울 수 있다."
   ]
  },
  {
   "cell_type": "code",
   "execution_count": 24,
   "id": "4a156ed4-150a-488c-a96b-b1d9a381569b",
   "metadata": {},
   "outputs": [
    {
     "name": "stdout",
     "output_type": "stream",
     "text": [
      "Cabinet of Dr. Caligari, The (Cabinet des Dr. Caligari., Das) (1920) 6987\n",
      "Kid, The (1921) 3310\n",
      "Birth of a Nation, The (1915) 7065\n",
      "Intolerance: Love's Struggle Throughout the Ages (1916) 7243\n",
      "Immigrant, The (1917) 8511\n",
      "Broken Blossoms or The Yellow Man and the Girl (1919) 6988\n",
      "Trip to the Moon, A (Voyage dans la lune, Le) (1902) 32898\n",
      "Fawlty Towers (1975-1979) 108583\n",
      "Kingsman: The Secret Service (2015) 119145\n",
      "Big Bang Theory, The (2007-) 108548\n",
      "1\n"
     ]
    }
   ],
   "source": [
    "import re\n",
    "cnt = 0\n",
    "item_year = dict()\n",
    "\n",
    "for x,y in zip(year_data[\"item\"], year_data[\"year\"]):\n",
    "    item_year[x] = y\n",
    "\n",
    "for x, y in zip(title_data[\"title\"], title_data[\"item\"]):\n",
    "    a = re.compile(\"\\(\\d+\\)\")\n",
    "    if y not in item_year:\n",
    "        pass\n",
    "    try:\n",
    "        if int(re.findall(a, x)[0][1:-1]) != item_year[y]:\n",
    "            cnt+=1\n",
    "    except:\n",
    "        print(x, y)\n",
    "print(cnt)"
   ]
  },
  {
   "cell_type": "markdown",
   "id": "ca0f3a93",
   "metadata": {
    "id": "ca0f3a93"
   },
   "source": [
    "다음은 *genres.tsv* 데이터입니다. \n",
    "각 column은 다음과 같은 정보를 담고 있습니다:\n",
    "- *item* : 영화 id.\n",
    "- *genre* : 영화의 장르.\n",
    "\n",
    "하나의 영화는 여러 개의 장르를 가질 수 있습니다.\n",
    "다음 코드를 실행하여 각 column의 data type과 같은 정보를 파악하고, 샘플 데이터를 출력해봅니다."
   ]
  },
  {
   "cell_type": "code",
   "execution_count": 25,
   "id": "6280af9c",
   "metadata": {
    "id": "6280af9c"
   },
   "outputs": [
    {
     "name": "stdout",
     "output_type": "stream",
     "text": [
      "<class 'pandas.core.frame.DataFrame'>\n",
      "RangeIndex: 15933 entries, 0 to 15932\n",
      "Data columns (total 2 columns):\n",
      " #   Column  Non-Null Count  Dtype \n",
      "---  ------  --------------  ----- \n",
      " 0   item    15933 non-null  int64 \n",
      " 1   genre   15933 non-null  object\n",
      "dtypes: int64(1), object(1)\n",
      "memory usage: 249.1+ KB\n"
     ]
    },
    {
     "data": {
      "text/html": [
       "<div>\n",
       "<style scoped>\n",
       "    .dataframe tbody tr th:only-of-type {\n",
       "        vertical-align: middle;\n",
       "    }\n",
       "\n",
       "    .dataframe tbody tr th {\n",
       "        vertical-align: top;\n",
       "    }\n",
       "\n",
       "    .dataframe thead th {\n",
       "        text-align: right;\n",
       "    }\n",
       "</style>\n",
       "<table border=\"1\" class=\"dataframe\">\n",
       "  <thead>\n",
       "    <tr style=\"text-align: right;\">\n",
       "      <th></th>\n",
       "      <th>item</th>\n",
       "      <th>genre</th>\n",
       "    </tr>\n",
       "  </thead>\n",
       "  <tbody>\n",
       "    <tr>\n",
       "      <th>0</th>\n",
       "      <td>318</td>\n",
       "      <td>Crime</td>\n",
       "    </tr>\n",
       "    <tr>\n",
       "      <th>1</th>\n",
       "      <td>318</td>\n",
       "      <td>Drama</td>\n",
       "    </tr>\n",
       "    <tr>\n",
       "      <th>2</th>\n",
       "      <td>2571</td>\n",
       "      <td>Action</td>\n",
       "    </tr>\n",
       "    <tr>\n",
       "      <th>3</th>\n",
       "      <td>2571</td>\n",
       "      <td>Sci-Fi</td>\n",
       "    </tr>\n",
       "    <tr>\n",
       "      <th>4</th>\n",
       "      <td>2571</td>\n",
       "      <td>Thriller</td>\n",
       "    </tr>\n",
       "  </tbody>\n",
       "</table>\n",
       "</div>"
      ],
      "text/plain": [
       "   item     genre\n",
       "0   318     Crime\n",
       "1   318     Drama\n",
       "2  2571    Action\n",
       "3  2571    Sci-Fi\n",
       "4  2571  Thriller"
      ]
     },
     "execution_count": 25,
     "metadata": {},
     "output_type": "execute_result"
    }
   ],
   "source": [
    "genre_data.info()\n",
    "genre_data.head(5)"
   ]
  },
  {
   "cell_type": "markdown",
   "id": "4992f034-6053-4a9d-ab93-2456f9b64f62",
   "metadata": {},
   "source": [
    "- 장르는 title에 존재하는 모든 item에 대해 정보가 있다.\n",
    "- 하나의 item이 여러 장르를 가질 수 있다."
   ]
  },
  {
   "cell_type": "code",
   "execution_count": 26,
   "id": "a67dc232-8078-48a8-aa92-79b17c37a133",
   "metadata": {},
   "outputs": [
    {
     "name": "stdout",
     "output_type": "stream",
     "text": [
      "6807\n",
      "True\n"
     ]
    }
   ],
   "source": [
    "print(len((genre_data[\"item\"].unique())))\n",
    "print(set(title_data[\"item\"].unique()) == set(genre_data[\"item\"].unique()))"
   ]
  },
  {
   "cell_type": "markdown",
   "id": "c523fa99-8b15-46b1-a6be-3dfdcb44defb",
   "metadata": {},
   "source": [
    "- 장르는 총 18개"
   ]
  },
  {
   "cell_type": "code",
   "execution_count": 27,
   "id": "3d994bc5-5c86-4827-88cf-0abb65e2f8b0",
   "metadata": {},
   "outputs": [
    {
     "data": {
      "text/plain": [
       "array(['Crime', 'Drama', 'Action', 'Sci-Fi', 'Thriller', 'Comedy',\n",
       "       'Romance', 'War', 'Adventure', 'Fantasy', 'Horror', 'Mystery',\n",
       "       'Animation', 'Children', 'Film-Noir', 'Musical', 'Western',\n",
       "       'Documentary'], dtype=object)"
      ]
     },
     "execution_count": 27,
     "metadata": {},
     "output_type": "execute_result"
    }
   ],
   "source": [
    "genre_data[\"genre\"].unique()"
   ]
  },
  {
   "cell_type": "markdown",
   "id": "97ba8644",
   "metadata": {
    "id": "97ba8644"
   },
   "source": [
    "마지막으로 *directors.tsv* 데이터입니다. \n",
    "각 column은 다음과 같은 정보를 담고 있습니다:\n",
    "- *item* : 영화 id.\n",
    "- *director* : 영화 감독. (익명화)\n",
    "\n",
    "하나의 영화는 여러 명의 감독을 가질 수 있습니다. 다음 코드를 실행하여 각 column의 data type과 같은 정보를 파악하고, 샘플 데이터를 출력해봅니다."
   ]
  },
  {
   "cell_type": "code",
   "execution_count": 28,
   "id": "4b93f747",
   "metadata": {
    "id": "4b93f747"
   },
   "outputs": [
    {
     "name": "stdout",
     "output_type": "stream",
     "text": [
      "<class 'pandas.core.frame.DataFrame'>\n",
      "RangeIndex: 5905 entries, 0 to 5904\n",
      "Data columns (total 2 columns):\n",
      " #   Column    Non-Null Count  Dtype \n",
      "---  ------    --------------  ----- \n",
      " 0   item      5905 non-null   int64 \n",
      " 1   director  5905 non-null   object\n",
      "dtypes: int64(1), object(1)\n",
      "memory usage: 92.4+ KB\n"
     ]
    },
    {
     "data": {
      "text/html": [
       "<div>\n",
       "<style scoped>\n",
       "    .dataframe tbody tr th:only-of-type {\n",
       "        vertical-align: middle;\n",
       "    }\n",
       "\n",
       "    .dataframe tbody tr th {\n",
       "        vertical-align: top;\n",
       "    }\n",
       "\n",
       "    .dataframe thead th {\n",
       "        text-align: right;\n",
       "    }\n",
       "</style>\n",
       "<table border=\"1\" class=\"dataframe\">\n",
       "  <thead>\n",
       "    <tr style=\"text-align: right;\">\n",
       "      <th></th>\n",
       "      <th>item</th>\n",
       "      <th>director</th>\n",
       "    </tr>\n",
       "  </thead>\n",
       "  <tbody>\n",
       "    <tr>\n",
       "      <th>0</th>\n",
       "      <td>1237</td>\n",
       "      <td>nm0000005</td>\n",
       "    </tr>\n",
       "    <tr>\n",
       "      <th>1</th>\n",
       "      <td>5147</td>\n",
       "      <td>nm0000005</td>\n",
       "    </tr>\n",
       "    <tr>\n",
       "      <th>2</th>\n",
       "      <td>7327</td>\n",
       "      <td>nm0000005</td>\n",
       "    </tr>\n",
       "    <tr>\n",
       "      <th>3</th>\n",
       "      <td>2068</td>\n",
       "      <td>nm0000005</td>\n",
       "    </tr>\n",
       "    <tr>\n",
       "      <th>4</th>\n",
       "      <td>7396</td>\n",
       "      <td>nm0000005</td>\n",
       "    </tr>\n",
       "  </tbody>\n",
       "</table>\n",
       "</div>"
      ],
      "text/plain": [
       "   item   director\n",
       "0  1237  nm0000005\n",
       "1  5147  nm0000005\n",
       "2  7327  nm0000005\n",
       "3  2068  nm0000005\n",
       "4  7396  nm0000005"
      ]
     },
     "execution_count": 28,
     "metadata": {},
     "output_type": "execute_result"
    }
   ],
   "source": [
    "director_data.info()\n",
    "director_data.head(5)"
   ]
  },
  {
   "cell_type": "markdown",
   "id": "7acf7abc-243b-4c6d-9be5-163148eff6af",
   "metadata": {},
   "source": [
    "- 감독 정보 역시 작가처럼 누락된 경우가 꽤 많다."
   ]
  },
  {
   "cell_type": "code",
   "execution_count": 29,
   "id": "f87b6574-f670-4ef1-aa43-0e804acdbf82",
   "metadata": {},
   "outputs": [
    {
     "name": "stdout",
     "output_type": "stream",
     "text": [
      "5503\n",
      "감독 정보가 없는 작품 수: 1304개\n",
      "작가 정보는 있지만 감독 정보가 없는 작품 수: 530개\n",
      "감독 정보는 있지만 작가 정보가 없는 작품 수: 675개\n"
     ]
    }
   ],
   "source": [
    "print(len((director_data[\"item\"].unique())))\n",
    "k = len(set(title_data[\"item\"].unique()) - set(director_data[\"item\"].unique()))\n",
    "print(f\"감독 정보가 없는 작품 수: {k}개\")\n",
    "kk = len(set(director_data[\"item\"].unique()) - set(writer_data[\"item\"].unique()))\n",
    "print(f\"작가 정보는 있지만 감독 정보가 없는 작품 수: {kk}개\")\n",
    "kkk = len(set(writer_data[\"item\"].unique()) - set(director_data[\"item\"].unique()))\n",
    "print(f\"감독 정보는 있지만 작가 정보가 없는 작품 수: {kkk}개\")"
   ]
  },
  {
   "cell_type": "code",
   "execution_count": 30,
   "id": "7cdafcd9-f00d-4d19-bc55-1838e1c0833b",
   "metadata": {},
   "outputs": [
    {
     "name": "stdout",
     "output_type": "stream",
     "text": [
      "다작 상위 15명 \n",
      "\n",
      "  감독    |   작품 수\n",
      "nm0000095 \t 44\n",
      "nm0000033 \t 33\n",
      "nm0000142 \t 31\n",
      "nm0000229 \t 29\n",
      "nm0000217 \t 26\n",
      "nm0001752 \t 23\n",
      "nm0000165 \t 20\n",
      "nm0943758 \t 20\n",
      "nm0000005 \t 19\n",
      "nm0000041 \t 19\n",
      "nm0000631 \t 19\n",
      "nm0000697 \t 19\n",
      "nm0001379 \t 19\n",
      "nm0001348 \t 18\n",
      "nm0001469 \t 18\n"
     ]
    }
   ],
   "source": [
    "n = 15\n",
    "c= Counter(director_data['director'])\n",
    "print(f\"다작 상위 {n}명 \\n\")\n",
    "print(\"  감독    |   작품 수\")\n",
    "for x,y in c.most_common(n):\n",
    "    print(x, \"\\t\", y)"
   ]
  },
  {
   "cell_type": "code",
   "execution_count": 31,
   "id": "b4b0a7a8-4fb1-4f2f-b244-0270bcde8543",
   "metadata": {},
   "outputs": [
    {
     "name": "stdout",
     "output_type": "stream",
     "text": [
      "다작 하위 15명 \n",
      "\n",
      "   감독    |   작품 수\n",
      "nm0000045 \t 2\n",
      "nm0000078 \t 2\n",
      "nm0000134 \t 2\n",
      "nm0000169 \t 2\n",
      "nm0000200 \t 2\n",
      "nm0000243 \t 2\n",
      "nm0000345 \t 2\n",
      "nm0000438 \t 2\n",
      "nm0000454 \t 2\n",
      "nm0000540 \t 2\n",
      "nm0000671 \t 2\n",
      "nm0000755 \t 2\n",
      "nm0000770 \t 2\n",
      "nm0000778 \t 2\n",
      "nm0000788 \t 2\n"
     ]
    }
   ],
   "source": [
    "print(f\"다작 하위 {n}명 \\n\")\n",
    "print(\"   감독    |   작품 수\")\n",
    "for x,y in sorted(c.items(), key=lambda x: x[1])[:15]:\n",
    "    print(x, \"\\t\", y)"
   ]
  },
  {
   "cell_type": "markdown",
   "id": "0886c0de",
   "metadata": {
    "id": "0886c0de",
    "tags": []
   },
   "source": [
    "## 데이터 시각화 해보기\n",
    "앞에서 주어진 데이터셋을 먼저 간단히 살펴보았습니다. 이제부터는 다수의 파일을 merge하여 시각화하고, 데이터에 대해 좀 더 깊은 이해를 해보겠습니다."
   ]
  },
  {
   "cell_type": "markdown",
   "id": "76a40230",
   "metadata": {
    "id": "76a40230"
   },
   "source": [
    "먼저 효율적인 데이터 시각화를 위해, 데이터셋에서 빈도수가 높은 movie, user 데이터의 id를 미리 저장하겠습니다.\n",
    "train 데이터에서 데이터의 출현 빈도 순으로 *active_user_ids*와 *popular_movie_ids*에 top 10을 각각 저장합니다.\n",
    "\n",
    "대회 데이터셋에서 빈도수가 높을수록 유명한 영화를 나타내는 것은 아니지만, 편의상 *popular_movie_id* 변수명을 사용하는 점을 당부드립니다.\n",
    "\n",
    "다음 코드를 실행해주세요."
   ]
  },
  {
   "cell_type": "code",
   "execution_count": 32,
   "id": "3318b7e8",
   "metadata": {
    "id": "3318b7e8"
   },
   "outputs": [
    {
     "name": "stdout",
     "output_type": "stream",
     "text": [
      "active user ids:  Int64Index([8405, 54465, 24219, 32514, 91349, 131904, 34576, 99754, 31122,\n",
      "            118754],\n",
      "           dtype='int64', name='user')\n",
      "\n",
      "popular movie ids:  Int64Index([2571, 2959, 296, 318, 356, 4993, 7153, 5952, 593, 2858], dtype='int64', name='item')\n"
     ]
    }
   ],
   "source": [
    "active_user_ids = train_df.value_counts('user').index[:10]\n",
    "popular_movie_ids = train_df.value_counts('item').index[:10]\n",
    "\n",
    "print (\"active user ids: \", active_user_ids)\n",
    "print (\"\\npopular movie ids: \", popular_movie_ids)"
   ]
  },
  {
   "cell_type": "markdown",
   "id": "f6536b69",
   "metadata": {
    "id": "f6536b69"
   },
   "source": [
    "*active_user_ids*와 *popular_movie_ids*에 각각 빈도가 높은 영화와 사용자 id들을 저장했습니다. 뒤에서도 계속 사용할 예정이니 참고해 주세요.\n",
    "\n",
    "이제부터는 train 데이터와 side information 데이터를 merge하고, side information 별 user-item 빈도수가 높은 데이터 샘플을 미리 저장합니다. 위에서 저장한 active user id와 popular movie id와 다르게 여기서는 바로 Pandas Dataframe의 형태로 샘플을 저장합니다. 빈도가 가장 높은 10개 side information data가 해당하는 모든 user-item interaction를 저장할 것이므로, 각 side information 데이터 샘플의 크기는 상이합니다.\n",
    "\n",
    "이어지는 코드 cell들을 실행해보고, 출력된 결과를 충분히 관찰해보시기 바랍니다."
   ]
  },
  {
   "cell_type": "code",
   "execution_count": 33,
   "id": "9c6d680e",
   "metadata": {
    "id": "9c6d680e"
   },
   "outputs": [
    {
     "name": "stdout",
     "output_type": "stream",
     "text": [
      "Number of all unique director ids:  1340\n",
      "\n",
      "top 10 director ids: \n",
      " Index(['nm0000229', 'nm0000233', 'nm0634240', 'nm0000709', 'nm0001392',\n",
      "       'nm0000217', 'nm0001054', 'nm0000116', 'nm0000399', 'nm0000631'],\n",
      "      dtype='object', name='director')\n",
      "\n",
      "sample of top 10 user-director data: \n",
      "           user   item        time   director\n",
      "505699   49645   5445  1197965177  nm0000229\n",
      "910240   30123   2959  1160390518  nm0000399\n",
      "1120969  46936   1721  1250934063  nm0000116\n",
      "1366562  88763  58559  1319140705  nm0634240\n",
      "4697931  36166   1127  1267484123  nm0000116\n",
      "\n",
      "shape of the data:  (672019, 4)\n"
     ]
    }
   ],
   "source": [
    "director_df = pd.merge(train_df, director_data, on=['item'])\n",
    "director_id = director_df.value_counts('director').index[:10]\n",
    "\n",
    "side_df = []\n",
    "for director in director_id:\n",
    "    side_df.append(director_df.loc[director_df['director'] == director])\n",
    "\n",
    "director_top = pd.concat(side_df)\n",
    "\n",
    "print (\"Number of all unique director ids: \", director_df['director'].nunique())\n",
    "print (\"\\ntop 10 director ids: \\n\", director_id)\n",
    "print (\"\\nsample of top 10 user-director data: \\n\", director_top.sample(5))\n",
    "print (\"\\nshape of the data: \", director_top.shape)"
   ]
  },
  {
   "cell_type": "code",
   "execution_count": 34,
   "id": "8eb01464",
   "metadata": {
    "id": "8eb01464"
   },
   "outputs": [
    {
     "name": "stdout",
     "output_type": "stream",
     "text": [
      "Number of all unique writer ids:  2989\n",
      "\n",
      "top 10 writer ids: \n",
      " Index(['nm0000184', 'nm0000233', 'nm0634240', 'nm0001392', 'nm0909638',\n",
      "       'nm0004056', 'nm0744429', 'nm0101991', 'nm0254645', 'nm0000175'],\n",
      "      dtype='object', name='writer')\n",
      "\n",
      "sample of top 10 user-writer data: \n",
      "            user    item        time     writer\n",
      "7457127   29122   78499  1398623535  nm0004056\n",
      "4440549   84158    2115  1334754502  nm0000184\n",
      "4957760  132195    1089  1308460038  nm0000233\n",
      "1491757   30043    3114  1137785514  nm0004056\n",
      "8917502    4222  109487  1416119972  nm0634240\n",
      "\n",
      "shape of the data:  (651286, 4)\n"
     ]
    }
   ],
   "source": [
    "writer_df = pd.merge(train_df, writer_data, on=['item'])\n",
    "writer_id = writer_df.value_counts('writer').index[:10]\n",
    "\n",
    "side_df = []\n",
    "for writer in writer_id:\n",
    "    side_df.append(writer_df.loc[writer_df['writer'] == writer])\n",
    "\n",
    "writer_top = pd.concat(side_df)\n",
    "\n",
    "print (\"Number of all unique writer ids: \", writer_df['writer'].nunique())\n",
    "print (\"\\ntop 10 writer ids: \\n\", writer_id)\n",
    "print (\"\\nsample of top 10 user-writer data: \\n\", writer_top.sample(5))\n",
    "print (\"\\nshape of the data: \", writer_top.shape)"
   ]
  },
  {
   "cell_type": "code",
   "execution_count": 35,
   "id": "2491c124",
   "metadata": {
    "id": "2491c124"
   },
   "outputs": [
    {
     "name": "stdout",
     "output_type": "stream",
     "text": [
      "Number of all unique movie titles:  6806\n",
      "\n",
      "top 10 movie titles: \n",
      " Index(['Matrix, The (1999)', 'Fight Club (1999)', 'Pulp Fiction (1994)',\n",
      "       'Shawshank Redemption, The (1994)', 'Forrest Gump (1994)',\n",
      "       'Lord of the Rings: The Fellowship of the Ring, The (2001)',\n",
      "       'Lord of the Rings: The Return of the King, The (2003)',\n",
      "       'Lord of the Rings: The Two Towers, The (2002)',\n",
      "       'Silence of the Lambs, The (1991)', 'American Beauty (1999)'],\n",
      "      dtype='object', name='title')\n",
      "\n",
      "sample of top 10 user-title data: \n",
      "            user  item        time  \\\n",
      "599017   122871  4993  1230571199   \n",
      "1081725   97033  5952  1161729699   \n",
      "810911    74356  2959  1143663257   \n",
      "109215    15016  2858  1117490990   \n",
      "866167   127511   356  1358785297   \n",
      "\n",
      "                                                     title  \n",
      "599017   Lord of the Rings: The Fellowship of the Ring,...  \n",
      "1081725      Lord of the Rings: The Two Towers, The (2002)  \n",
      "810911                                   Fight Club (1999)  \n",
      "109215                              American Beauty (1999)  \n",
      "866167                                 Forrest Gump (1994)  \n",
      "\n",
      "shape of the data:  (173185, 4)\n"
     ]
    }
   ],
   "source": [
    "title_df = pd.merge(train_df, title_data, on=['item'])\n",
    "title_id = title_df.value_counts('title').index[:10]\n",
    "\n",
    "\n",
    "side_df = []\n",
    "for title in title_id:\n",
    "    side_df.append(title_df.loc[title_df['title'] == title])\n",
    "\n",
    "title_top = pd.concat(side_df)\n",
    "\n",
    "print (\"Number of all unique movie titles: \", title_df['title'].nunique())\n",
    "print (\"\\ntop 10 movie titles: \\n\", title_id)\n",
    "print (\"\\nsample of top 10 user-title data: \\n\", title_top.sample(5))\n",
    "print (\"\\nshape of the data: \", title_top.shape)"
   ]
  },
  {
   "cell_type": "code",
   "execution_count": 36,
   "id": "4b19e5d4",
   "metadata": {
    "id": "4b19e5d4"
   },
   "outputs": [
    {
     "name": "stdout",
     "output_type": "stream",
     "text": [
      "All unique years: \n",
      " [1922 1923 1924 1925 1926 1927 1928 1929 1930 1931 1932 1933 1934 1935\n",
      " 1936 1937 1938 1939 1940 1941 1942 1943 1944 1945 1946 1947 1948 1949\n",
      " 1950 1951 1952 1953 1954 1955 1956 1957 1958 1959 1960 1961 1962 1963\n",
      " 1964 1965 1966 1967 1968 1969 1970 1971 1972 1973 1974 1975 1976 1977\n",
      " 1978 1979 1980 1981 1982 1983 1984 1985 1986 1987 1988 1989 1990 1991\n",
      " 1992 1993 1994 1995 1996 1997 1998 1999 2000 2001 2002 2003 2004 2005\n",
      " 2006 2007 2008 2009 2010 2011 2012 2013 2014]\n",
      "\n",
      "Number of all unique years:  93\n",
      "\n",
      "top 10 years: \n",
      " Int64Index([2004, 1999, 2001, 2002, 2006, 2003, 2000, 2005, 1995, 2007], dtype='int64', name='year')\n",
      "\n",
      "sample of top 10 user-year data: \n",
      "            user  item        time  year\n",
      "2027667   59477  3147  1136804817  1999\n",
      "4209379  117413  3992  1304423696  2000\n",
      "2225354   73835    47  1221037345  1995\n",
      "235494    91536  2571  1220194548  1999\n",
      "939274     5284   165  1215017504  1995\n",
      "\n",
      "shape of the data:  (2173226, 4)\n"
     ]
    }
   ],
   "source": [
    "year_df = pd.merge(train_df, year_data, on=['item'])\n",
    "year_id = year_df.value_counts('year').index[:10]\n",
    "\n",
    "side_df = []\n",
    "for year in year_id:\n",
    "    side_df.append(year_df.loc[year_df['year'] == year])\n",
    "\n",
    "year_top = pd.concat(side_df)\n",
    "\n",
    "print (\"All unique years: \\n\", np.sort(year_df['year'].unique())) \n",
    "print (\"\\nNumber of all unique years: \", year_df['year'].nunique())\n",
    "print (\"\\ntop 10 years: \\n\", year_id)\n",
    "print (\"\\nsample of top 10 user-year data: \\n\", year_top.sample(5))\n",
    "print (\"\\nshape of the data: \", year_top.shape)"
   ]
  },
  {
   "cell_type": "markdown",
   "id": "4d516fdd",
   "metadata": {
    "id": "4d516fdd"
   },
   "source": [
    "여기까지 director, writer, title, year 데이터를 확인해 보았는데요. 이어서 genre 데이터도 관찰해보겠습니다. 데이터셋에서 genre의 수가 총 18개밖에 없으므로 빈도수가 높은 genre를 따로 저장할 필요 없이, train 데이터와의 merge를 바로 진행하겠습니다.\n",
    "\n",
    "다음 코드를 실행하고 genre 데이터의 형태도 관찰해보세요."
   ]
  },
  {
   "cell_type": "code",
   "execution_count": 37,
   "id": "d7260a11",
   "metadata": {
    "id": "d7260a11"
   },
   "outputs": [
    {
     "name": "stdout",
     "output_type": "stream",
     "text": [
      "All unique genres: \n",
      " ['Action' 'Adventure' 'Animation' 'Children' 'Comedy' 'Crime'\n",
      " 'Documentary' 'Drama' 'Fantasy' 'Film-Noir' 'Horror' 'Musical' 'Mystery'\n",
      " 'Romance' 'Sci-Fi' 'Thriller' 'War' 'Western']\n",
      "\n",
      "Number of all unique genres:  18\n",
      "\n",
      "sample of user-genre data: \n",
      "             user   item        time      genre\n",
      "7702362    18803   2000  1174592099      Crime\n",
      "9563355    13955   3993  1225385749      Drama\n",
      "8148631   135620   5679  1349646643   Thriller\n",
      "13338788   13263  62376  1402797864     Sci-Fi\n",
      "4027900    83461    380  1231263730  Adventure\n",
      "\n",
      "shape of the data:  (14126324, 4)\n"
     ]
    }
   ],
   "source": [
    "genre_df = pd.merge(train_df, genre_data, on=['item'])\n",
    "\n",
    "genre_top = genre_df\n",
    "\n",
    "print (\"All unique genres: \\n\", np.sort(genre_df['genre'].unique())) \n",
    "print (\"\\nNumber of all unique genres: \", genre_df['genre'].nunique())\n",
    "print (\"\\nsample of user-genre data: \\n\", genre_top.sample(5))\n",
    "print (\"\\nshape of the data: \", genre_top.shape)"
   ]
  },
  {
   "cell_type": "markdown",
   "id": "ef9ab59e",
   "metadata": {
    "id": "ef9ab59e"
   },
   "source": [
    "여기까지 오셨으면 side information 데이터의 형태를 충분히 파악하셨을 것으로 생각됩니다! 이제\n",
    "matplotlib library를 사용하여 샘플한 데이터를 그래프로 시각화해봅니다. "
   ]
  },
  {
   "cell_type": "code",
   "execution_count": 38,
   "id": "c55623fa",
   "metadata": {
    "id": "c55623fa"
   },
   "outputs": [
    {
     "data": {
      "text/plain": [
       "<function matplotlib.pyplot.show(close=None, block=None)>"
      ]
     },
     "execution_count": 38,
     "metadata": {},
     "output_type": "execute_result"
    },
    {
     "data": {
      "image/png": "[encoded data removed]",
      "text/plain": [
       "<Figure size 576x504 with 1 Axes>"
      ]
     },
     "metadata": {
      "needs_background": "light"
     },
     "output_type": "display_data"
    }
   ],
   "source": [
    "genre_top['genre'].value_counts().plot(kind = 'bar', figsize = (8,7))\n",
    "plt.xlabel('genre')\n",
    "plt.ylabel('# of users')\n",
    "plt.title('Visualization of genre distribution over all training data')\n",
    "plt.show"
   ]
  },
  {
   "cell_type": "markdown",
   "id": "381aee8a",
   "metadata": {
    "id": "381aee8a"
   },
   "source": [
    "데이터셋에서 가장 많이 출현하는 장르가 *Drama*, 가장 적게 출현하는 장르가 *Film-Noir*임을 확인할 수 있었습니다.\n",
    "\n",
    "그러면 전체 training 데이터에서의 genre 분포 뿐만 아니라, genre 데이터 단독의 분포를 출력하면 어떤지 비교해 봅니다. 코드를 실행해주세요."
   ]
  },
  {
   "cell_type": "code",
   "execution_count": 39,
   "id": "82547687",
   "metadata": {
    "id": "82547687"
   },
   "outputs": [
    {
     "data": {
      "image/png": "[encoded data removed]",
      "text/plain": [
       "<Figure size 432x288 with 2 Axes>"
      ]
     },
     "metadata": {
      "needs_background": "light"
     },
     "output_type": "display_data"
    }
   ],
   "source": [
    "plt.subplot(2,1,1)\n",
    "genre_data['genre'].value_counts().plot(kind = 'bar')\n",
    "plt.xlabel('genre')\n",
    "plt.ylabel('# of users')\n",
    "plt.title('Visualization of genre distribution over all movies')\n",
    "\n",
    "plt.subplot(2,1,2)\n",
    "genre_top['genre'].value_counts().plot(kind = 'bar')\n",
    "plt.xlabel('genre')\n",
    "plt.ylabel('# of users')\n",
    "plt.title('Visualization of genre distribution over all training data')\n",
    "\n",
    "plt.subplots_adjust(hspace=2.0, top=1.0)"
   ]
  },
  {
   "cell_type": "markdown",
   "id": "2e2103de",
   "metadata": {
    "id": "2e2103de"
   },
   "source": [
    "두 개의 그래프를 확인하면 거의 비슷해보이지만, 두 분포 사이에 작은 차이가 있음을 확인할 수 있습니다. 가령, *Romance* 장르의 영화가 전체 훈련 데이터에서는 7위를 차지하지만, 모든 6807개의 영화 중에서는 4위를 차지합니다. 이는 *Romance* 장르에 해당하는 영화의 갯수에 비해 실제 사용자들이 시청할 확률이 더 높았다는 것을 뜻합니다.\n",
    "\n",
    "다음은 사용자 한명이 시청한 영화 리스트를 확인하고, 해당 사용자가 가장 선호하는 장르를 순위별로 차트로 알아보겠습니다. 다음 코드에서는 데이터가 가장 많은 사용자의 id인 `active_user_ids[0]`를 사용하겠습니다.\n",
    "그럼 코드를 실행해보세요!"
   ]
  },
  {
   "cell_type": "markdown",
   "id": "5db5175f-a941-4efb-9dd3-6596efb5be6b",
   "metadata": {},
   "source": [
    "- 당연하게도 사람마다 장르 취향은 다르게 나타난다."
   ]
  },
  {
   "cell_type": "code",
   "execution_count": 40,
   "id": "7322b72f",
   "metadata": {
    "id": "7322b72f"
   },
   "outputs": [
    {
     "data": {
      "text/plain": [
       "<AxesSubplot:>"
      ]
     },
     "execution_count": 40,
     "metadata": {},
     "output_type": "execute_result"
    },
    {
     "data": {
      "image/png": "[encoded data removed]",
      "text/plain": [
       "<Figure size 576x504 with 1 Axes>"
      ]
     },
     "metadata": {
      "needs_background": "light"
     },
     "output_type": "display_data"
    }
   ],
   "source": [
    "user_id = active_user_ids[0] # specific user id\n",
    "genre_user = genre_top[genre_top['user'] == user_id]\n",
    "\n",
    "genre_user['genre'].value_counts().plot(kind = 'bar', figsize = (8,7))"
   ]
  },
  {
   "cell_type": "markdown",
   "id": "8d4114ea-dfc8-4e08-8313-d0c54f80fb85",
   "metadata": {
    "id": "d268df37"
   },
   "source": [
    "`active_user_ids[0]`에 해당하는 사용자의 시청영화 장르 분포는 전체 데이터의 장르 분포와 크게 차이가 나지 않습니다. 그렇다면 `active_user_ids[1]`에 해당하는 사용자는 어떨까요? 다양한 사용자들의 장르 분포도 한번 비교해 보시기 바랍니다."
   ]
  },
  {
   "cell_type": "code",
   "execution_count": 103,
   "id": "54d06f6b-5971-4449-b244-6f0e3cfd6c27",
   "metadata": {},
   "outputs": [
    {
     "data": {
      "text/plain": [
       "<AxesSubplot:>"
      ]
     },
     "execution_count": 103,
     "metadata": {},
     "output_type": "execute_result"
    },
    {
     "data": {
      "image/png": "[encoded data removed]",
      "text/plain": [
       "<Figure size 576x504 with 1 Axes>"
      ]
     },
     "metadata": {
      "needs_background": "light"
     },
     "output_type": "display_data"
    }
   ],
   "source": [
    "user_id = active_user_ids[1] # specific user id\n",
    "genre_user = genre_top[genre_top['user'] == user_id]\n",
    "\n",
    "genre_user['genre'].value_counts().plot(kind = 'bar', figsize = (8,7))"
   ]
  },
  {
   "cell_type": "code",
   "execution_count": 104,
   "id": "16b0cd8a-2e59-4077-9162-31c088ac370a",
   "metadata": {},
   "outputs": [
    {
     "data": {
      "text/plain": [
       "<AxesSubplot:>"
      ]
     },
     "execution_count": 104,
     "metadata": {},
     "output_type": "execute_result"
    },
    {
     "data": {
      "image/png": "[encoded data removed]",
      "text/plain": [
       "<Figure size 576x504 with 1 Axes>"
      ]
     },
     "metadata": {
      "needs_background": "light"
     },
     "output_type": "display_data"
    }
   ],
   "source": [
    "user_id = active_user_ids[2] # specific user id\n",
    "genre_user = genre_top[genre_top['user'] == user_id]\n",
    "\n",
    "genre_user['genre'].value_counts().plot(kind = 'bar', figsize = (8,7))"
   ]
  },
  {
   "cell_type": "markdown",
   "id": "f3dcd1e6-11ea-4fa5-8850-caf937cdda5c",
   "metadata": {
    "id": "d268df37"
   },
   "source": [
    "다음은 사용자가 주로 언제 영화를 시청했는지 알아보려고 합니다.\n",
    "그 전에 먼저 간단히 알고 넘어가면 좋은 내용이 있는데요. train 데이터를 보시면 timestamp column은 유닉스 시간(Unix time)을 초 단위로 표시한 것입니다. 통계를 위해 이것을 우리가 알아볼 수 있는 단위로 변환하는 방법을 알아보겠습니다. 다음 코드를 실행해보세요."
   ]
  },
  {
   "cell_type": "code",
   "execution_count": null,
   "id": "0c3d80f1",
   "metadata": {
    "id": "0c3d80f1"
   },
   "outputs": [],
   "source": [
    "import time\n",
    "unix_time = 1230782529 # some random timestamp from dataset\n",
    "converted_time = time.strftime('%Y-%m-%d %H:%M:%S', time.localtime(unix_time))\n",
    "\n",
    "print (\"initial unix-based timestamp: %s\\nconverted time: %s\"%(unix_time, converted_time))"
   ]
  },
  {
   "cell_type": "markdown",
   "id": "81646dc3",
   "metadata": {
    "id": "81646dc3"
   },
   "source": [
    "파이썬의 time 라이브러리를 사용하여 연-월-일 시간-분-초 단위까지 잘 변환이 되는 것을 확인했습니다. \n",
    "하지만 우리 데이터셋의 영화 연도 분포와 task를 고려했을때 시간-분-초 단위는 크게 중요하지 않을 것 같습니다. 일 단위도 빼고, 연-월 단위만 가지고 사용자의 시청 연-월 그래프를 확인해보겠습니다.\n",
    "\n",
    "즉, 위와 같은 방법으로 timestamp를 변환하여 `active_user_ids[0]`에 해당하는 사용자가 어느 시기에 가장 많은 interaction 활동을 했는지 알아봅니다. 다음 코드를 실행하여 그래프를 확인해봅니다."
   ]
  },
  {
   "cell_type": "code",
   "execution_count": null,
   "id": "1da11a31",
   "metadata": {
    "id": "1da11a31"
   },
   "outputs": [],
   "source": [
    "old_df = train_df[train_df['user'] == active_user_ids[0]] # Specific user id\n",
    "converted_df = old_df\n",
    "\n",
    "for old_time in old_df['time']:\n",
    "    new_time = time.strftime('%Y-%m', time.localtime(old_time))\n",
    "    converted_df['time'] = old_df['time'].replace([old_time], new_time) # replace the time column\n",
    "\n",
    "converted_df['time'].value_counts().plot(kind = 'bar', figsize = (8,7))\n",
    "plt.xlabel('year-month')\n",
    "plt.ylabel('# of movies')\n",
    "plt.title('Statistics of user activity')"
   ]
  },
  {
   "cell_type": "markdown",
   "id": "0cd8606f",
   "metadata": {
    "id": "0cd8606f"
   },
   "source": [
    "해당 사용자는 대략 2007년 전후로 영화 시청을 가장 많이 했고, 시간이 지나면서 시청 기록이 점점 줄어드는 확인할 수 있습니다.\n",
    "\n",
    "이어서 사용자가 처음으로 또는 마지막으로 영화 시청을 한 시기도 직접 출력해볼 수 있겠습니다. 또, 다른 사용자들의 분포는 얼마나 다를까요?\n",
    "혹은, 어떤 영화가 어떤 연도에 가장 많이 소비되었을까요?\n",
    "\n",
    "눈치 채셨을지 모르겠지만, 앞서 저장했던 *popular_movie_id* 변수는 시각화에 사용되지 않았는데요. 선택 과제로 활용해보시기 바랍니다!"
   ]
  },
  {
   "cell_type": "markdown",
   "id": "bfd772c1",
   "metadata": {
    "id": "bfd772c1"
   },
   "source": [
    "## 결론\n",
    "\n",
    "1. 적당한 임베딩을 통해 side_info(감독, 작가, 연도 등)들을 활용할 수 있을 것 같다.\n",
    "2. 작가와 감독의 경우 결측치들을 따로 라벨링 해줘야한다. 장르는 멀티핫인코딩으로 쉽게 활용할 수 있지 않을까?\n",
    "3. 연도의 경우 결측치 8개를 제목으로부터 채울 수 있다.\n",
    "4. 제목의 경우 너무 얼마 되지 않아서,, 유의미하게 워드 임베딩을 통해 활용할 수 있을지 의문이다.\n",
    "5. sequential한 예측을 하는 경우 user 별 interaction의 수의 통계치를 max_len과 neg_sample 설정에 잘 활용해야한다.\n",
    "6. Bert4Rec을 기본적으로 활용하되, static한 정보들을 어떻게 추가로 활용할 수 있을지 고민해봐야한다."
   ]
  },
  {
   "cell_type": "code",
   "execution_count": null,
   "id": "b2aa37be-876a-48f4-b1b2-cd613fd97695",
   "metadata": {},
   "outputs": [],
   "source": []
  }
 ],
 "metadata": {
  "colab": {
   "collapsed_sections": [],
   "name": "Movie_Recommendation-Mission _1-EDA.ipynb",
   "provenance": []
  },
  "kernelspec": {
   "display_name": "Python 3 (ipykernel)",
   "language": "python",
   "name": "python3"
  },
  "language_info": {
   "codemirror_mode": {
    "name": "ipython",
    "version": 3
   },
   "file_extension": ".py",
   "mimetype": "text/x-python",
   "name": "python",
   "nbconvert_exporter": "python",
   "pygments_lexer": "ipython3",
   "version": "3.8.5"
  }
 },
 "nbformat": 4,
 "nbformat_minor": 5
}
