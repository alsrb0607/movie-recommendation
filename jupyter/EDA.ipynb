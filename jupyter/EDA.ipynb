{
 "cells": [
  {
   "cell_type": "markdown",
   "id": "3bdb7bb5-5857-4637-af14-1d4fa9227e83",
   "metadata": {},
   "source": [
    "# EDA"
   ]
  },
  {
   "cell_type": "markdown",
   "id": "01db55f0-4800-4fa4-8ce0-0daab7e6bfdd",
   "metadata": {},
   "source": [
    "## 기본 설정\n",
    "import, 데이터 파일 불러오기"
   ]
  },
  {
   "cell_type": "code",
   "execution_count": 1,
   "id": "a56adc8b-debb-4693-8b24-c7f0a0cbc53f",
   "metadata": {},
   "outputs": [],
   "source": [
    "import os\n",
    "import warnings\n",
    "import numpy as np\n",
    "import pandas as pd\n",
    "import seaborn as sns\n",
    "import matplotlib.pyplot as plt\n",
    "\n",
    "data_dir = '/opt/ml/input/data/train/'\n",
    "\n",
    "train_info = pd.read_csv(f'{data_dir}/train_ratings.csv')\n",
    "title_info = pd.read_csv(f'{data_dir}/titles.tsv', sep='\\t')\n",
    "year_info = pd.read_csv(f'{data_dir}/years.tsv', sep='\\t')\n",
    "writer_info = pd.read_csv(f'{data_dir}/writers.tsv', sep='\\t')\n",
    "genre_info = pd.read_csv(f'{data_dir}/genres.tsv', sep='\\t')\n",
    "director_info = pd.read_csv(f'{data_dir}/directors.tsv', sep='\\t')\n",
    "dataframe = {'title': title_info, 'year': year_info, 'writer': writer_info, \n",
    "             'genre': genre_info, 'director': director_info, 'train': train_info}"
   ]
  },
  {
   "cell_type": "markdown",
   "id": "fda3e1a8-bc9f-4aa3-a9c0-5411486b2f99",
   "metadata": {},
   "source": [
    "## 파일별 정보 분석\n",
    "데이터 파일별 결측치, unique 데이터에 대해 알아보자\n",
    "\n",
    "모든 파일에 결측치는 없었다. 다만, 파일별로 unique한 item 개수의 차이가 보였다."
   ]
  },
  {
   "cell_type": "code",
   "execution_count": 30,
   "id": "eda710fa-7dcc-490c-83a6-8564f43410ec",
   "metadata": {},
   "outputs": [
    {
     "name": "stdout",
     "output_type": "stream",
     "text": [
      "title 정보 요약\n",
      "총 데이터 개수: 6807\n",
      "-item 행\n",
      "결측치 0개\n",
      "데이터 3개(데이터 종류:6807개): [ 318 2571 2959]\n",
      "-title 행\n",
      "결측치 0개\n",
      "데이터 3개(데이터 종류:6806개): ['Shawshank Redemption, The (1994)' 'Matrix, The (1999)'\n",
      " 'Fight Club (1999)']\n",
      "----------------------------------------------------------------------\n",
      "year 정보 요약\n",
      "총 데이터 개수: 6799\n",
      "-item 행\n",
      "결측치 0개\n",
      "데이터 3개(데이터 종류:6799개): [ 1348 44587  4768]\n",
      "-year 행\n",
      "결측치 0개\n",
      "데이터 3개(데이터 종류:93개): [1922 1923 1924]\n",
      "----------------------------------------------------------------------\n",
      "writer 정보 요약\n",
      "총 데이터 개수: 11306\n",
      "-item 행\n",
      "결측치 0개\n",
      "데이터 3개(데이터 종류:5648개): [1237 5147 7327]\n",
      "-writer 행\n",
      "결측치 0개\n",
      "데이터 3개(데이터 종류:2989개): ['nm0000005' 'nm0000019' 'nm0000033']\n",
      "----------------------------------------------------------------------\n",
      "genre 정보 요약\n",
      "총 데이터 개수: 15933\n",
      "-item 행\n",
      "결측치 0개\n",
      "데이터 3개(데이터 종류:6807개): [ 318 2571 2959]\n",
      "-genre 행\n",
      "결측치 0개\n",
      "데이터 3개(데이터 종류:18개): ['Crime' 'Drama' 'Action']\n",
      "----------------------------------------------------------------------\n",
      "director 정보 요약\n",
      "총 데이터 개수: 5905\n",
      "-item 행\n",
      "결측치 0개\n",
      "데이터 3개(데이터 종류:5503개): [1237 5147 7327]\n",
      "-director 행\n",
      "결측치 0개\n",
      "데이터 3개(데이터 종류:1340개): ['nm0000005' 'nm0000019' 'nm0000033']\n",
      "----------------------------------------------------------------------\n",
      "train 정보 요약\n",
      "총 데이터 개수: 5154471\n",
      "-user 행\n",
      "결측치 0개\n",
      "데이터 3개(데이터 종류:31360개): [11 14 18]\n",
      "-item 행\n",
      "결측치 0개\n",
      "데이터 3개(데이터 종류:6807개): [4643  170  531]\n",
      "-time 행\n",
      "결측치 0개\n",
      "데이터 3개(데이터 종류:5074973개): [1230782529 1230782534 1230782539]\n",
      "----------------------------------------------------------------------\n"
     ]
    }
   ],
   "source": [
    "for name, df in dataframe.items():\n",
    "    print(f'{name} 정보 요약')\n",
    "    print(f'총 데이터 개수: {len(df)}')\n",
    "    for col_name in df.columns:\n",
    "        nan_cnt = df[col_name].isna().sum()\n",
    "        unique_val = df[col_name].unique()\n",
    "        print(f'-{col_name} 행\\n결측치 {nan_cnt}개\\n데이터 3개(데이터 종류:{len(unique_val)}개): {unique_val[:3]}')\n",
    "    print('-'*70)"
   ]
  },
  {
   "cell_type": "markdown",
   "id": "80d1300b-1723-4b6b-96f1-cc8dada621bd",
   "metadata": {},
   "source": [
    "### Item 관련 파일\n",
    "영화 정보인 titile, year, write, genre, director 파일에 대해서 각각 분석해보자."
   ]
  },
  {
   "cell_type": "markdown",
   "id": "3a87b6e6-1013-4819-be89-6b20d97e08c5",
   "metadata": {},
   "source": [
    "#### 제목(title) 파일\n",
    "unique value가 item은 6807개이지만, title은 6806개이다. 이를 통해 중복된 케이스가 있다는 것을 알수 있었다.\n",
    "\n",
    "분석 결과, War of the Worlds (2005) 데이터가 2개가 존재하는 것을 확인할 수 있다."
   ]
  },
  {
   "cell_type": "code",
   "execution_count": 73,
   "id": "7fffc21e-b01e-4e2d-849c-b16bea87c9cf",
   "metadata": {},
   "outputs": [
    {
     "data": {
      "text/html": [
       "<div>\n",
       "<style scoped>\n",
       "    .dataframe tbody tr th:only-of-type {\n",
       "        vertical-align: middle;\n",
       "    }\n",
       "\n",
       "    .dataframe tbody tr th {\n",
       "        vertical-align: top;\n",
       "    }\n",
       "\n",
       "    .dataframe thead th {\n",
       "        text-align: right;\n",
       "    }\n",
       "</style>\n",
       "<table border=\"1\" class=\"dataframe\">\n",
       "  <thead>\n",
       "    <tr style=\"text-align: right;\">\n",
       "      <th></th>\n",
       "      <th>item</th>\n",
       "      <th>title</th>\n",
       "      <th>year_title</th>\n",
       "    </tr>\n",
       "  </thead>\n",
       "  <tbody>\n",
       "    <tr>\n",
       "      <th>336</th>\n",
       "      <td>54259</td>\n",
       "      <td>Stardust (2007)</td>\n",
       "      <td>2007</td>\n",
       "    </tr>\n",
       "    <tr>\n",
       "      <th>3293</th>\n",
       "      <td>40491</td>\n",
       "      <td>Match Factory Girl, The (Tulitikkutehtaan tytt...</td>\n",
       "      <td>1990</td>\n",
       "    </tr>\n",
       "    <tr>\n",
       "      <th>276</th>\n",
       "      <td>1729</td>\n",
       "      <td>Jackie Brown (1997)</td>\n",
       "      <td>1997</td>\n",
       "    </tr>\n",
       "    <tr>\n",
       "      <th>6666</th>\n",
       "      <td>32296</td>\n",
       "      <td>Miss Congeniality 2: Armed and Fabulous (2005)</td>\n",
       "      <td>2005</td>\n",
       "    </tr>\n",
       "    <tr>\n",
       "      <th>555</th>\n",
       "      <td>61132</td>\n",
       "      <td>Tropic Thunder (2008)</td>\n",
       "      <td>2008</td>\n",
       "    </tr>\n",
       "    <tr>\n",
       "      <th>5503</th>\n",
       "      <td>71466</td>\n",
       "      <td>City Island (2009)</td>\n",
       "      <td>2009</td>\n",
       "    </tr>\n",
       "    <tr>\n",
       "      <th>2026</th>\n",
       "      <td>6612</td>\n",
       "      <td>Brother's Keeper (1992)</td>\n",
       "      <td>1992</td>\n",
       "    </tr>\n",
       "  </tbody>\n",
       "</table>\n",
       "</div>"
      ],
      "text/plain": [
       "       item                                              title year_title\n",
       "336   54259                                    Stardust (2007)       2007\n",
       "3293  40491  Match Factory Girl, The (Tulitikkutehtaan tytt...       1990\n",
       "276    1729                                Jackie Brown (1997)       1997\n",
       "6666  32296     Miss Congeniality 2: Armed and Fabulous (2005)       2005\n",
       "555   61132                              Tropic Thunder (2008)       2008\n",
       "5503  71466                                 City Island (2009)       2009\n",
       "2026   6612                            Brother's Keeper (1992)       1992"
      ]
     },
     "execution_count": 73,
     "metadata": {},
     "output_type": "execute_result"
    }
   ],
   "source": [
    "dataframe['title'].sample(7)"
   ]
  },
  {
   "cell_type": "markdown",
   "id": "18358fbc-4bd3-419d-80b1-cca7a197d323",
   "metadata": {},
   "source": [
    "영화 제목 뒷부분에 있는 연도 정보만 분리해 year_title column에 저장해보았다."
   ]
  },
  {
   "cell_type": "code",
   "execution_count": 251,
   "id": "7a127ec1-073f-4c82-9e0d-448bf35cfcdd",
   "metadata": {},
   "outputs": [
    {
     "data": {
      "text/html": [
       "<div>\n",
       "<style scoped>\n",
       "    .dataframe tbody tr th:only-of-type {\n",
       "        vertical-align: middle;\n",
       "    }\n",
       "\n",
       "    .dataframe tbody tr th {\n",
       "        vertical-align: top;\n",
       "    }\n",
       "\n",
       "    .dataframe thead th {\n",
       "        text-align: right;\n",
       "    }\n",
       "</style>\n",
       "<table border=\"1\" class=\"dataframe\">\n",
       "  <thead>\n",
       "    <tr style=\"text-align: right;\">\n",
       "      <th></th>\n",
       "      <th>item</th>\n",
       "      <th>title</th>\n",
       "      <th>year_title</th>\n",
       "    </tr>\n",
       "  </thead>\n",
       "  <tbody>\n",
       "    <tr>\n",
       "      <th>349</th>\n",
       "      <td>34048</td>\n",
       "      <td>War of the Worlds (2005)</td>\n",
       "      <td>2005</td>\n",
       "    </tr>\n",
       "    <tr>\n",
       "      <th>1926</th>\n",
       "      <td>64997</td>\n",
       "      <td>War of the Worlds (2005)</td>\n",
       "      <td>2005</td>\n",
       "    </tr>\n",
       "  </tbody>\n",
       "</table>\n",
       "</div>"
      ],
      "text/plain": [
       "       item                     title year_title\n",
       "349   34048  War of the Worlds (2005)       2005\n",
       "1926  64997  War of the Worlds (2005)       2005"
      ]
     },
     "execution_count": 251,
     "metadata": {},
     "output_type": "execute_result"
    }
   ],
   "source": [
    "dataframe['title'][dataframe['title']['title']=='War of the Worlds (2005)']"
   ]
  },
  {
   "cell_type": "markdown",
   "id": "95be9475-939f-4b16-b918-e84dea23487e",
   "metadata": {},
   "source": [
    "#### 연도(year) 파일\n",
    "파일에서 item 개수가 6799개만 존재해 title파일과 연결해본 결과, 8개 영화에 대해서 연도 정보가 없는 것을 확인할 수 있었다.\n",
    "\n",
    "없는 부분의 데이터는 title에 있는 연도 정보를 가져왔다."
   ]
  },
  {
   "cell_type": "markdown",
   "id": "78e8aea3-afbd-4b7d-8fd1-ce22115e1113",
   "metadata": {},
   "source": [
    "title 파일에서 추출한 연도는 year_title column에 저장했다."
   ]
  },
  {
   "cell_type": "code",
   "execution_count": 264,
   "id": "a953f05c-09c7-43dd-9fe3-02299189df18",
   "metadata": {},
   "outputs": [
    {
     "data": {
      "text/html": [
       "<div>\n",
       "<style scoped>\n",
       "    .dataframe tbody tr th:only-of-type {\n",
       "        vertical-align: middle;\n",
       "    }\n",
       "\n",
       "    .dataframe tbody tr th {\n",
       "        vertical-align: top;\n",
       "    }\n",
       "\n",
       "    .dataframe thead th {\n",
       "        text-align: right;\n",
       "    }\n",
       "</style>\n",
       "<table border=\"1\" class=\"dataframe\">\n",
       "  <thead>\n",
       "    <tr style=\"text-align: right;\">\n",
       "      <th></th>\n",
       "      <th>item</th>\n",
       "      <th>title</th>\n",
       "      <th>year_title</th>\n",
       "    </tr>\n",
       "  </thead>\n",
       "  <tbody>\n",
       "    <tr>\n",
       "      <th>count</th>\n",
       "      <td>6807</td>\n",
       "      <td>6807</td>\n",
       "      <td>6807</td>\n",
       "    </tr>\n",
       "    <tr>\n",
       "      <th>unique</th>\n",
       "      <td>6807</td>\n",
       "      <td>6806</td>\n",
       "      <td>101</td>\n",
       "    </tr>\n",
       "    <tr>\n",
       "      <th>top</th>\n",
       "      <td>318</td>\n",
       "      <td>War of the Worlds (2005)</td>\n",
       "      <td>2006</td>\n",
       "    </tr>\n",
       "    <tr>\n",
       "      <th>freq</th>\n",
       "      <td>1</td>\n",
       "      <td>2</td>\n",
       "      <td>284</td>\n",
       "    </tr>\n",
       "  </tbody>\n",
       "</table>\n",
       "</div>"
      ],
      "text/plain": [
       "        item                     title year_title\n",
       "count   6807                      6807       6807\n",
       "unique  6807                      6806        101\n",
       "top      318  War of the Worlds (2005)       2006\n",
       "freq       1                         2        284"
      ]
     },
     "execution_count": 264,
     "metadata": {},
     "output_type": "execute_result"
    }
   ],
   "source": [
    "dataframe['title']['year_title'] = dataframe['title']['title'].apply(lambda x: x.split('(')[-1][:4])\n",
    "dataframe['title']['item'] = dataframe['title']['item'].astype(str)\n",
    "dataframe['title'].describe(include='all')"
   ]
  },
  {
   "cell_type": "markdown",
   "id": "9c28e8d9-6275-4feb-8172-e6049dc1f305",
   "metadata": {},
   "source": [
    "title 파일과 year 파일의 연도 데이터를 비교해본 결과, unique한 year 데이터 개수 차이가 8개로 year 파일에 없는 item 개수와 같았고, 실제로도 그랬다."
   ]
  },
  {
   "cell_type": "code",
   "execution_count": 272,
   "id": "c34b51f9-f1b5-439b-8d07-39f8ef27a9fe",
   "metadata": {},
   "outputs": [
    {
     "data": {
      "text/html": [
       "<div>\n",
       "<style scoped>\n",
       "    .dataframe tbody tr th:only-of-type {\n",
       "        vertical-align: middle;\n",
       "    }\n",
       "\n",
       "    .dataframe tbody tr th {\n",
       "        vertical-align: top;\n",
       "    }\n",
       "\n",
       "    .dataframe thead th {\n",
       "        text-align: right;\n",
       "    }\n",
       "</style>\n",
       "<table border=\"1\" class=\"dataframe\">\n",
       "  <thead>\n",
       "    <tr style=\"text-align: right;\">\n",
       "      <th></th>\n",
       "      <th>item</th>\n",
       "      <th>year</th>\n",
       "    </tr>\n",
       "  </thead>\n",
       "  <tbody>\n",
       "    <tr>\n",
       "      <th>count</th>\n",
       "      <td>6799</td>\n",
       "      <td>6799</td>\n",
       "    </tr>\n",
       "    <tr>\n",
       "      <th>unique</th>\n",
       "      <td>6799</td>\n",
       "      <td>93</td>\n",
       "    </tr>\n",
       "    <tr>\n",
       "      <th>top</th>\n",
       "      <td>1348</td>\n",
       "      <td>2006</td>\n",
       "    </tr>\n",
       "    <tr>\n",
       "      <th>freq</th>\n",
       "      <td>1</td>\n",
       "      <td>284</td>\n",
       "    </tr>\n",
       "  </tbody>\n",
       "</table>\n",
       "</div>"
      ],
      "text/plain": [
       "        item  year\n",
       "count   6799  6799\n",
       "unique  6799    93\n",
       "top     1348  2006\n",
       "freq       1   284"
      ]
     },
     "execution_count": 272,
     "metadata": {},
     "output_type": "execute_result"
    }
   ],
   "source": [
    "dataframe['year']['item'] = dataframe['year']['item'].astype(str)\n",
    "dataframe['year']['year'] = dataframe['year']['year'].astype(str)\n",
    "dataframe['year'].describe(include='all')"
   ]
  },
  {
   "cell_type": "code",
   "execution_count": 273,
   "id": "7e86bfd4-1307-4c3e-9532-b1b64c4da8b7",
   "metadata": {},
   "outputs": [
    {
     "name": "stdout",
     "output_type": "stream",
     "text": [
      "{'2015', '1902', '1916', '1917', '1919', '1920', '1915', '1921'}\n"
     ]
    }
   ],
   "source": [
    "title_year_unique = set(dataframe['title']['year_title'])\n",
    "year_year_unique = set(dataframe['year']['year'])\n",
    "not_exist_set = title_year_unique - year_year_unique\n",
    "prit(f'title에만 존재하는 연도')\n",
    "print(not_exist_set)"
   ]
  },
  {
   "cell_type": "markdown",
   "id": "f5c7f098-fa36-4b59-9f54-729ba55fbdcc",
   "metadata": {},
   "source": [
    "title 파일과 합쳐 year_title과 year가 같은지 확인해보았다."
   ]
  },
  {
   "cell_type": "code",
   "execution_count": 275,
   "id": "2215c84b-53f3-4aef-8205-db31adc68fb5",
   "metadata": {},
   "outputs": [],
   "source": [
    "title_year = pd.merge(left=dataframe['title'], right=dataframe['year'], how='outer', on='item')"
   ]
  },
  {
   "cell_type": "code",
   "execution_count": 278,
   "id": "930d433b-43df-48c2-8717-2d5f155c50c2",
   "metadata": {},
   "outputs": [
    {
     "name": "stdout",
     "output_type": "stream",
     "text": [
      "불일치 개수: 8\n"
     ]
    },
    {
     "data": {
      "text/html": [
       "<div>\n",
       "<style scoped>\n",
       "    .dataframe tbody tr th:only-of-type {\n",
       "        vertical-align: middle;\n",
       "    }\n",
       "\n",
       "    .dataframe tbody tr th {\n",
       "        vertical-align: top;\n",
       "    }\n",
       "\n",
       "    .dataframe thead th {\n",
       "        text-align: right;\n",
       "    }\n",
       "</style>\n",
       "<table border=\"1\" class=\"dataframe\">\n",
       "  <thead>\n",
       "    <tr style=\"text-align: right;\">\n",
       "      <th></th>\n",
       "      <th>item</th>\n",
       "      <th>title</th>\n",
       "      <th>year_title</th>\n",
       "      <th>year</th>\n",
       "    </tr>\n",
       "  </thead>\n",
       "  <tbody>\n",
       "    <tr>\n",
       "      <th>984</th>\n",
       "      <td>6987</td>\n",
       "      <td>Cabinet of Dr. Caligari, The (Cabinet des Dr. ...</td>\n",
       "      <td>1920</td>\n",
       "      <td>NaN</td>\n",
       "    </tr>\n",
       "    <tr>\n",
       "      <th>1284</th>\n",
       "      <td>3310</td>\n",
       "      <td>Kid, The (1921)</td>\n",
       "      <td>1921</td>\n",
       "      <td>NaN</td>\n",
       "    </tr>\n",
       "    <tr>\n",
       "      <th>2359</th>\n",
       "      <td>7065</td>\n",
       "      <td>Birth of a Nation, The (1915)</td>\n",
       "      <td>1915</td>\n",
       "      <td>NaN</td>\n",
       "    </tr>\n",
       "    <tr>\n",
       "      <th>2620</th>\n",
       "      <td>7243</td>\n",
       "      <td>Intolerance: Love's Struggle Throughout the Ag...</td>\n",
       "      <td>1916</td>\n",
       "      <td>NaN</td>\n",
       "    </tr>\n",
       "    <tr>\n",
       "      <th>2669</th>\n",
       "      <td>8511</td>\n",
       "      <td>Immigrant, The (1917)</td>\n",
       "      <td>1917</td>\n",
       "      <td>NaN</td>\n",
       "    </tr>\n",
       "    <tr>\n",
       "      <th>2676</th>\n",
       "      <td>6988</td>\n",
       "      <td>Broken Blossoms or The Yellow Man and the Girl...</td>\n",
       "      <td>1919</td>\n",
       "      <td>NaN</td>\n",
       "    </tr>\n",
       "    <tr>\n",
       "      <th>3177</th>\n",
       "      <td>32898</td>\n",
       "      <td>Trip to the Moon, A (Voyage dans la lune, Le) ...</td>\n",
       "      <td>1902</td>\n",
       "      <td>NaN</td>\n",
       "    </tr>\n",
       "    <tr>\n",
       "      <th>6043</th>\n",
       "      <td>119145</td>\n",
       "      <td>Kingsman: The Secret Service (2015)</td>\n",
       "      <td>2015</td>\n",
       "      <td>NaN</td>\n",
       "    </tr>\n",
       "  </tbody>\n",
       "</table>\n",
       "</div>"
      ],
      "text/plain": [
       "        item                                              title year_title  \\\n",
       "984     6987  Cabinet of Dr. Caligari, The (Cabinet des Dr. ...       1920   \n",
       "1284    3310                                    Kid, The (1921)       1921   \n",
       "2359    7065                      Birth of a Nation, The (1915)       1915   \n",
       "2620    7243  Intolerance: Love's Struggle Throughout the Ag...       1916   \n",
       "2669    8511                              Immigrant, The (1917)       1917   \n",
       "2676    6988  Broken Blossoms or The Yellow Man and the Girl...       1919   \n",
       "3177   32898  Trip to the Moon, A (Voyage dans la lune, Le) ...       1902   \n",
       "6043  119145                Kingsman: The Secret Service (2015)       2015   \n",
       "\n",
       "     year  \n",
       "984   NaN  \n",
       "1284  NaN  \n",
       "2359  NaN  \n",
       "2620  NaN  \n",
       "2669  NaN  \n",
       "2676  NaN  \n",
       "3177  NaN  \n",
       "6043  NaN  "
      ]
     },
     "execution_count": 278,
     "metadata": {},
     "output_type": "execute_result"
    }
   ],
   "source": [
    "not_equal_idx = title_year['year_title'] != title_year['year']\n",
    "print(f'불일치 개수: {not_equal_idx.sum()}')\n",
    "title_year[not_equal_idx]"
   ]
  },
  {
   "cell_type": "markdown",
   "id": "a7ecfc15-60a1-4459-9fa3-5112d48e5a33",
   "metadata": {},
   "source": [
    "1902년부터 2015년까지 영화 데이터가 존재한다.\n",
    "\n",
    "연도별로 1개부터 284개까지 데이터가 존재한다.\n",
    "\n",
    "2007년까지 개수가 증가하다 감소하는 추세가 보인다."
   ]
  },
  {
   "cell_type": "code",
   "execution_count": 280,
   "id": "decd0765-61e3-4e8b-8353-4069b2f7cb65",
   "metadata": {},
   "outputs": [],
   "source": [
    "title_year['year_title'] = title_year['year_title'].astype('category')\n",
    "all_cnt = len(title_year) \n",
    "avg_data_cnt = all_cnt // title_year['year_title'].nunique()"
   ]
  },
  {
   "cell_type": "code",
   "execution_count": 283,
   "id": "1d327f30-a5b3-4dff-9c48-f3b37b73841b",
   "metadata": {},
   "outputs": [
    {
     "name": "stdout",
     "output_type": "stream",
     "text": [
      "전체 데이터 개수: 6807\n",
      "평균 개수: 67\n"
     ]
    },
    {
     "data": {
      "text/plain": [
       "2006    284\n",
       "2007    271\n",
       "2004    262\n",
       "2005    260\n",
       "2008    256\n",
       "       ... \n",
       "1920      1\n",
       "1919      1\n",
       "1917      1\n",
       "1916      1\n",
       "2015      1\n",
       "Name: year_title, Length: 101, dtype: int64"
      ]
     },
     "execution_count": 283,
     "metadata": {},
     "output_type": "execute_result"
    }
   ],
   "source": [
    "print(f'전체 데이터 개수: {all_cnt}')\n",
    "print(f'평균 개수: {avg_data_cnt}')\n",
    "year_stat = title_year['year_title'].value_counts()\n",
    "year_stat"
   ]
  },
  {
   "cell_type": "code",
   "execution_count": 288,
   "id": "3e81a0bd-9181-45ff-8ed2-6e150c671d79",
   "metadata": {},
   "outputs": [
    {
     "name": "stdout",
     "output_type": "stream",
     "text": [
      "평균 이상 연도: 31, 평균 미만 연도: 70\n"
     ]
    }
   ],
   "source": [
    "upper_cnt = (year_stat>=avg_data_cnt).sum()\n",
    "lower_cnt = (year_stat<avg_data_cnt).sum()\n",
    "print(f'평균 이상 연도: {upper_cnt}, 평균 미만 연도: {lower_cnt}')"
   ]
  },
  {
   "cell_type": "code",
   "execution_count": 112,
   "id": "fa75343e-43d0-486b-bbaf-e0de328886da",
   "metadata": {},
   "outputs": [
    {
     "data": {
      "text/plain": [
       "<AxesSubplot:xlabel='count', ylabel='year_title'>"
      ]
     },
     "execution_count": 112,
     "metadata": {},
     "output_type": "execute_result"
    },
    {
     "data": {
      "image/png": "[encoded data removed]",
      "text/plain": [
       "<Figure size 1080x1080 with 1 Axes>"
      ]
     },
     "metadata": {
      "needs_background": "light"
     },
     "output_type": "display_data"
    }
   ],
   "source": [
    "plt.figure(figsize = (15,15))\n",
    "sns.countplot(y='year_title', data=title_year)"
   ]
  },
  {
   "cell_type": "markdown",
   "id": "80ff20ec-faf8-4310-84ac-1be0868783aa",
   "metadata": {},
   "source": [
    "#### 작가(writer) 파일\n",
    "1159개 item에 작가 정보가 없는 것을 확인할 수 있었다. 이는 item의 17프로이다.\n",
    "\n",
    "작가 정보가 있는 item은 최소 2명 이상의 작가 정보를 가지고 있다.\n"
   ]
  },
  {
   "cell_type": "code",
   "execution_count": 289,
   "id": "a7a39854-9229-4114-b2fc-4cfc1fa90c09",
   "metadata": {},
   "outputs": [
    {
     "data": {
      "text/html": [
       "<div>\n",
       "<style scoped>\n",
       "    .dataframe tbody tr th:only-of-type {\n",
       "        vertical-align: middle;\n",
       "    }\n",
       "\n",
       "    .dataframe tbody tr th {\n",
       "        vertical-align: top;\n",
       "    }\n",
       "\n",
       "    .dataframe thead th {\n",
       "        text-align: right;\n",
       "    }\n",
       "</style>\n",
       "<table border=\"1\" class=\"dataframe\">\n",
       "  <thead>\n",
       "    <tr style=\"text-align: right;\">\n",
       "      <th></th>\n",
       "      <th>item</th>\n",
       "      <th>writer</th>\n",
       "    </tr>\n",
       "  </thead>\n",
       "  <tbody>\n",
       "    <tr>\n",
       "      <th>count</th>\n",
       "      <td>11306</td>\n",
       "      <td>11306</td>\n",
       "    </tr>\n",
       "    <tr>\n",
       "      <th>unique</th>\n",
       "      <td>5648</td>\n",
       "      <td>2989</td>\n",
       "    </tr>\n",
       "    <tr>\n",
       "      <th>top</th>\n",
       "      <td>1907</td>\n",
       "      <td>nm0000095</td>\n",
       "    </tr>\n",
       "    <tr>\n",
       "      <th>freq</th>\n",
       "      <td>24</td>\n",
       "      <td>47</td>\n",
       "    </tr>\n",
       "  </tbody>\n",
       "</table>\n",
       "</div>"
      ],
      "text/plain": [
       "         item     writer\n",
       "count   11306      11306\n",
       "unique   5648       2989\n",
       "top      1907  nm0000095\n",
       "freq       24         47"
      ]
     },
     "execution_count": 289,
     "metadata": {},
     "output_type": "execute_result"
    }
   ],
   "source": [
    "dataframe['writer']['item'] = dataframe['writer']['item'].astype(str)\n",
    "dataframe['writer'].describe(include='all')"
   ]
  },
  {
   "cell_type": "code",
   "execution_count": 290,
   "id": "9a661c49-b382-45a5-8781-7ef9c28db8b9",
   "metadata": {},
   "outputs": [
    {
     "data": {
      "text/html": [
       "<div>\n",
       "<style scoped>\n",
       "    .dataframe tbody tr th:only-of-type {\n",
       "        vertical-align: middle;\n",
       "    }\n",
       "\n",
       "    .dataframe tbody tr th {\n",
       "        vertical-align: top;\n",
       "    }\n",
       "\n",
       "    .dataframe thead th {\n",
       "        text-align: right;\n",
       "    }\n",
       "</style>\n",
       "<table border=\"1\" class=\"dataframe\">\n",
       "  <thead>\n",
       "    <tr style=\"text-align: right;\">\n",
       "      <th></th>\n",
       "      <th>item</th>\n",
       "      <th>title</th>\n",
       "      <th>year_title</th>\n",
       "      <th>writer</th>\n",
       "    </tr>\n",
       "  </thead>\n",
       "  <tbody>\n",
       "    <tr>\n",
       "      <th>340</th>\n",
       "      <td>590</td>\n",
       "      <td>Dances with Wolves (1990)</td>\n",
       "      <td>1990</td>\n",
       "      <td>NaN</td>\n",
       "    </tr>\n",
       "    <tr>\n",
       "      <th>377</th>\n",
       "      <td>1225</td>\n",
       "      <td>Amadeus (1984)</td>\n",
       "      <td>1984</td>\n",
       "      <td>NaN</td>\n",
       "    </tr>\n",
       "    <tr>\n",
       "      <th>435</th>\n",
       "      <td>8784</td>\n",
       "      <td>Garden State (2004)</td>\n",
       "      <td>2004</td>\n",
       "      <td>NaN</td>\n",
       "    </tr>\n",
       "    <tr>\n",
       "      <th>511</th>\n",
       "      <td>47610</td>\n",
       "      <td>Illusionist, The (2006)</td>\n",
       "      <td>2006</td>\n",
       "      <td>NaN</td>\n",
       "    </tr>\n",
       "    <tr>\n",
       "      <th>594</th>\n",
       "      <td>5010</td>\n",
       "      <td>Black Hawk Down (2001)</td>\n",
       "      <td>2001</td>\n",
       "      <td>NaN</td>\n",
       "    </tr>\n",
       "    <tr>\n",
       "      <th>...</th>\n",
       "      <td>...</td>\n",
       "      <td>...</td>\n",
       "      <td>...</td>\n",
       "      <td>...</td>\n",
       "    </tr>\n",
       "    <tr>\n",
       "      <th>12449</th>\n",
       "      <td>1430</td>\n",
       "      <td>Underworld (1996)</td>\n",
       "      <td>1996</td>\n",
       "      <td>NaN</td>\n",
       "    </tr>\n",
       "    <tr>\n",
       "      <th>12450</th>\n",
       "      <td>100302</td>\n",
       "      <td>Upside Down (2012)</td>\n",
       "      <td>2012</td>\n",
       "      <td>NaN</td>\n",
       "    </tr>\n",
       "    <tr>\n",
       "      <th>12456</th>\n",
       "      <td>65193</td>\n",
       "      <td>Wild Child (2008)</td>\n",
       "      <td>2008</td>\n",
       "      <td>NaN</td>\n",
       "    </tr>\n",
       "    <tr>\n",
       "      <th>12457</th>\n",
       "      <td>4219</td>\n",
       "      <td>Girls Just Want to Have Fun (1985)</td>\n",
       "      <td>1985</td>\n",
       "      <td>NaN</td>\n",
       "    </tr>\n",
       "    <tr>\n",
       "      <th>12464</th>\n",
       "      <td>8130</td>\n",
       "      <td>Girl Next Door, The (1999)</td>\n",
       "      <td>1999</td>\n",
       "      <td>NaN</td>\n",
       "    </tr>\n",
       "  </tbody>\n",
       "</table>\n",
       "<p>1159 rows × 4 columns</p>\n",
       "</div>"
      ],
      "text/plain": [
       "         item                               title year_title writer\n",
       "340       590           Dances with Wolves (1990)       1990    NaN\n",
       "377      1225                      Amadeus (1984)       1984    NaN\n",
       "435      8784                 Garden State (2004)       2004    NaN\n",
       "511     47610             Illusionist, The (2006)       2006    NaN\n",
       "594      5010              Black Hawk Down (2001)       2001    NaN\n",
       "...       ...                                 ...        ...    ...\n",
       "12449    1430                   Underworld (1996)       1996    NaN\n",
       "12450  100302                  Upside Down (2012)       2012    NaN\n",
       "12456   65193                   Wild Child (2008)       2008    NaN\n",
       "12457    4219  Girls Just Want to Have Fun (1985)       1985    NaN\n",
       "12464    8130          Girl Next Door, The (1999)       1999    NaN\n",
       "\n",
       "[1159 rows x 4 columns]"
      ]
     },
     "execution_count": 290,
     "metadata": {},
     "output_type": "execute_result"
    }
   ],
   "source": [
    "title_writer = pd.merge(left=dataframe['title'], right=dataframe['writer'], how='outer', on='item')\n",
    "title_writer[title_writer['writer'].isna()]"
   ]
  },
  {
   "cell_type": "code",
   "execution_count": 292,
   "id": "2677cca0-f697-4bb9-b558-4b3009260e48",
   "metadata": {},
   "outputs": [
    {
     "name": "stdout",
     "output_type": "stream",
     "text": [
      "writer가 없는 영화 비율: 0.17\n"
     ]
    }
   ],
   "source": [
    "no_writer_cnt = title_writer['writer'].isna().sum()\n",
    "print(f'writer가 없는 영화 비율: {no_writer_cnt/6807:.2f}')"
   ]
  },
  {
   "cell_type": "code",
   "execution_count": 123,
   "id": "24c38029-f1f9-4e3c-b708-28db5fb2f453",
   "metadata": {},
   "outputs": [
    {
     "name": "stdout",
     "output_type": "stream",
     "text": [
      "writer가 2명 이상인 item 개수: 2988\n",
      "최대 writer 수: 24\n"
     ]
    }
   ],
   "source": [
    "item_write_cnt = dataframe['writer']['item'].value_counts()\n",
    "print(f'작가가 2명 이상인 item 개수: {(item_write_cnt > 1).sum()}')\n",
    "print(f'작가 제일 많은 작품의 작가수: {item_write_cnt.max()}')\n",
    "# sns.countplot(y='item', data=dataframe['writer'])"
   ]
  },
  {
   "cell_type": "code",
   "execution_count": 299,
   "id": "f12b16f5-e683-4877-80e3-52492e967827",
   "metadata": {},
   "outputs": [
    {
     "name": "stdout",
     "output_type": "stream",
     "text": [
      "작가 평균 작품수: 3\n",
      "작품 개수가 평균 이상인 작가: 1627, 작품 개수가 평균 미만인 작가: 1362\n"
     ]
    }
   ],
   "source": [
    "all_cnt = len(dataframe['writer'])\n",
    "avg_data_cnt = all_cnt // dataframe['writer']['writer'].nunique()\n",
    "writer_stat = dataframe['writer']['writer'].value_counts()\n",
    "upper_cnt = (writer_stat>=avg_data_cnt).sum()\n",
    "lower_cnt = (writer_stat<avg_data_cnt).sum()\n",
    "\n",
    "print(f'작가 평균 작품수: {avg_data_cnt}')\n",
    "print(f'작품 개수가 평균 이상인 작가: {upper_cnt}, 작품 개수가 평균 미만인 작가: {lower_cnt}')"
   ]
  },
  {
   "cell_type": "markdown",
   "id": "15511324-299a-441f-b362-92856498241f",
   "metadata": {},
   "source": [
    "#### 장르(genre) 파일\n",
    "총 18가지 장르로 구분되어 있다. 장르별 데이터 개수가 불균형을 이루고 있다.\n",
    "\n",
    "모든 item에 대해서 1개 이상의 장르 정보가 지정되어 있다.\n",
    "\n",
    "장르별 상관관계를 heatmap으로 표현해본 결과, children과 animation 사이의 연관성이 제일 강한 것으로 나왔다."
   ]
  },
  {
   "cell_type": "code",
   "execution_count": 298,
   "id": "35d23986-d937-428f-a59e-0e9e3248daf8",
   "metadata": {},
   "outputs": [
    {
     "data": {
      "text/html": [
       "<div>\n",
       "<style scoped>\n",
       "    .dataframe tbody tr th:only-of-type {\n",
       "        vertical-align: middle;\n",
       "    }\n",
       "\n",
       "    .dataframe tbody tr th {\n",
       "        vertical-align: top;\n",
       "    }\n",
       "\n",
       "    .dataframe thead th {\n",
       "        text-align: right;\n",
       "    }\n",
       "</style>\n",
       "<table border=\"1\" class=\"dataframe\">\n",
       "  <thead>\n",
       "    <tr style=\"text-align: right;\">\n",
       "      <th></th>\n",
       "      <th>item</th>\n",
       "      <th>genre</th>\n",
       "    </tr>\n",
       "  </thead>\n",
       "  <tbody>\n",
       "    <tr>\n",
       "      <th>count</th>\n",
       "      <td>15933</td>\n",
       "      <td>15933</td>\n",
       "    </tr>\n",
       "    <tr>\n",
       "      <th>unique</th>\n",
       "      <td>6807</td>\n",
       "      <td>18</td>\n",
       "    </tr>\n",
       "    <tr>\n",
       "      <th>top</th>\n",
       "      <td>81132</td>\n",
       "      <td>Drama</td>\n",
       "    </tr>\n",
       "    <tr>\n",
       "      <th>freq</th>\n",
       "      <td>10</td>\n",
       "      <td>3490</td>\n",
       "    </tr>\n",
       "  </tbody>\n",
       "</table>\n",
       "</div>"
      ],
      "text/plain": [
       "         item  genre\n",
       "count   15933  15933\n",
       "unique   6807     18\n",
       "top     81132  Drama\n",
       "freq       10   3490"
      ]
     },
     "execution_count": 298,
     "metadata": {},
     "output_type": "execute_result"
    }
   ],
   "source": [
    "dataframe['genre']['item'] = dataframe['genre']['item'].astype(str)\n",
    "dataframe['genre'].describe(include='all')"
   ]
  },
  {
   "cell_type": "code",
   "execution_count": 300,
   "id": "500ca433-91dd-42cf-9d4b-0e7768ec1dc5",
   "metadata": {},
   "outputs": [
    {
     "name": "stdout",
     "output_type": "stream",
     "text": [
      "장르 평균 작품수: 885\n",
      "작품 개수가 평균 이상인 장르수: 7, 작품 개수가 평균 미만인 장르수: 11\n"
     ]
    }
   ],
   "source": [
    "all_cnt = len(dataframe['genre'])\n",
    "avg_data_cnt = all_cnt // dataframe['genre']['genre'].nunique()\n",
    "genre_stat = dataframe['genre']['genre'].value_counts()\n",
    "upper_cnt = (genre_stat>=avg_data_cnt).sum()\n",
    "lower_cnt = (genre_stat<avg_data_cnt).sum()\n",
    "\n",
    "print(f'장르 평균 작품수: {avg_data_cnt}')\n",
    "print(f'작품 개수가 평균 이상인 장르수: {upper_cnt}, 작품 개수가 평균 미만인 장르수: {lower_cnt}')"
   ]
  },
  {
   "cell_type": "code",
   "execution_count": 315,
   "id": "c21a7f7b-a626-4c28-a6dd-d2302692c77b",
   "metadata": {},
   "outputs": [
    {
     "data": {
      "text/plain": [
       "<AxesSubplot:xlabel='count', ylabel='genre'>"
      ]
     },
     "execution_count": 315,
     "metadata": {},
     "output_type": "execute_result"
    },
    {
     "data": {
      "image/png": "[encoded data removed]",
      "text/plain": [
       "<Figure size 432x288 with 1 Axes>"
      ]
     },
     "metadata": {
      "needs_background": "light"
     },
     "output_type": "display_data"
    }
   ],
   "source": [
    "sns.countplot(y='genre', data=dataframe['genre'], order=sorted(dataframe['genre']['genre'].unique()))"
   ]
  },
  {
   "cell_type": "code",
   "execution_count": 192,
   "id": "af7b1e30-d836-49f5-aa3d-dad972d300a3",
   "metadata": {},
   "outputs": [
    {
     "data": {
      "text/plain": [
       "<AxesSubplot:>"
      ]
     },
     "execution_count": 192,
     "metadata": {},
     "output_type": "execute_result"
    },
    {
     "data": {
      "image/png": "[encoded data removed]",
      "text/plain": [
       "<Figure size 1080x1080 with 2 Axes>"
      ]
     },
     "metadata": {
      "needs_background": "light"
     },
     "output_type": "display_data"
    }
   ],
   "source": [
    "onehot_genre = pd.get_dummies(dataframe['genre'], columns=['genre']).set_index('item').sum(level=0).reset_index()\n",
    "\n",
    "plt.figure(figsize=(15,15))\n",
    "correlation_genre = onehot_genre.corr()\n",
    "correlation_genre = correlation_genre.iloc[1:, :-1]\n",
    "mask = np.ones_like(correlation_genre)\n",
    "mask[np.tril_indices_from(mask)] = False\n",
    "# for i in range(len(mask)): mask[i, i] = True\n",
    "sns.heatmap(data=correlation_genre, annot=True, mask=mask, fmt = '.2f', cmap=\"seismic\")"
   ]
  },
  {
   "cell_type": "markdown",
   "id": "d34a526f-43d7-42ec-8264-be0eb9fc1ce4",
   "metadata": {},
   "source": [
    "#### 감독(director) 파일\n",
    "감독 정보가 없는 item의 수가 1304개이다. 이는 전체 item 수의 19%이다."
   ]
  },
  {
   "cell_type": "code",
   "execution_count": 301,
   "id": "e3ea9bb9-f5b0-4961-855c-bc7d97eddbc8",
   "metadata": {
    "tags": []
   },
   "outputs": [
    {
     "data": {
      "text/html": [
       "<div>\n",
       "<style scoped>\n",
       "    .dataframe tbody tr th:only-of-type {\n",
       "        vertical-align: middle;\n",
       "    }\n",
       "\n",
       "    .dataframe tbody tr th {\n",
       "        vertical-align: top;\n",
       "    }\n",
       "\n",
       "    .dataframe thead th {\n",
       "        text-align: right;\n",
       "    }\n",
       "</style>\n",
       "<table border=\"1\" class=\"dataframe\">\n",
       "  <thead>\n",
       "    <tr style=\"text-align: right;\">\n",
       "      <th></th>\n",
       "      <th>item</th>\n",
       "      <th>director</th>\n",
       "    </tr>\n",
       "  </thead>\n",
       "  <tbody>\n",
       "    <tr>\n",
       "      <th>count</th>\n",
       "      <td>5905</td>\n",
       "      <td>5905</td>\n",
       "    </tr>\n",
       "    <tr>\n",
       "      <th>unique</th>\n",
       "      <td>5503</td>\n",
       "      <td>1340</td>\n",
       "    </tr>\n",
       "    <tr>\n",
       "      <th>top</th>\n",
       "      <td>50912</td>\n",
       "      <td>nm0000095</td>\n",
       "    </tr>\n",
       "    <tr>\n",
       "      <th>freq</th>\n",
       "      <td>14</td>\n",
       "      <td>44</td>\n",
       "    </tr>\n",
       "  </tbody>\n",
       "</table>\n",
       "</div>"
      ],
      "text/plain": [
       "         item   director\n",
       "count    5905       5905\n",
       "unique   5503       1340\n",
       "top     50912  nm0000095\n",
       "freq       14         44"
      ]
     },
     "execution_count": 301,
     "metadata": {},
     "output_type": "execute_result"
    }
   ],
   "source": [
    "dataframe['director']['item'] = dataframe['director']['item'].astype('category')\n",
    "dataframe['director'].describe(include='all')"
   ]
  },
  {
   "cell_type": "code",
   "execution_count": 302,
   "id": "574b4ce7-9a5d-491a-a6a3-f19e3f3adeb5",
   "metadata": {},
   "outputs": [
    {
     "name": "stdout",
     "output_type": "stream",
     "text": [
      "writer가 없는 영화 비율: 0.19\n"
     ]
    }
   ],
   "source": [
    "item_cnt = len(dataframe['title'])\n",
    "no_writer_cnt = item_cnt - dataframe['director']['item'].nunique()\n",
    "print(f'writer가 없는 영화 비율: {no_writer_cnt/item_cnt:.2f}')"
   ]
  },
  {
   "cell_type": "code",
   "execution_count": 202,
   "id": "64086223-42de-49d2-a663-c233f074d063",
   "metadata": {
    "tags": []
   },
   "outputs": [
    {
     "data": {
      "text/html": [
       "<div>\n",
       "<style scoped>\n",
       "    .dataframe tbody tr th:only-of-type {\n",
       "        vertical-align: middle;\n",
       "    }\n",
       "\n",
       "    .dataframe tbody tr th {\n",
       "        vertical-align: top;\n",
       "    }\n",
       "\n",
       "    .dataframe thead th {\n",
       "        text-align: right;\n",
       "    }\n",
       "</style>\n",
       "<table border=\"1\" class=\"dataframe\">\n",
       "  <thead>\n",
       "    <tr style=\"text-align: right;\">\n",
       "      <th></th>\n",
       "      <th>item</th>\n",
       "      <th>title</th>\n",
       "      <th>year_title</th>\n",
       "      <th>director</th>\n",
       "    </tr>\n",
       "  </thead>\n",
       "  <tbody>\n",
       "    <tr>\n",
       "      <th>155</th>\n",
       "      <td>1073</td>\n",
       "      <td>Willy Wonka &amp; the Chocolate Factory (1971)</td>\n",
       "      <td>1971</td>\n",
       "      <td>NaN</td>\n",
       "    </tr>\n",
       "    <tr>\n",
       "      <th>194</th>\n",
       "      <td>8784</td>\n",
       "      <td>Garden State (2004)</td>\n",
       "      <td>2004</td>\n",
       "      <td>NaN</td>\n",
       "    </tr>\n",
       "    <tr>\n",
       "      <th>327</th>\n",
       "      <td>4246</td>\n",
       "      <td>Bridget Jones's Diary (2001)</td>\n",
       "      <td>2001</td>\n",
       "      <td>NaN</td>\n",
       "    </tr>\n",
       "    <tr>\n",
       "      <th>376</th>\n",
       "      <td>1500</td>\n",
       "      <td>Grosse Pointe Blank (1997)</td>\n",
       "      <td>1997</td>\n",
       "      <td>NaN</td>\n",
       "    </tr>\n",
       "    <tr>\n",
       "      <th>434</th>\n",
       "      <td>2710</td>\n",
       "      <td>Blair Witch Project, The (1999)</td>\n",
       "      <td>1999</td>\n",
       "      <td>NaN</td>\n",
       "    </tr>\n",
       "    <tr>\n",
       "      <th>...</th>\n",
       "      <td>...</td>\n",
       "      <td>...</td>\n",
       "      <td>...</td>\n",
       "      <td>...</td>\n",
       "    </tr>\n",
       "    <tr>\n",
       "      <th>7180</th>\n",
       "      <td>32302</td>\n",
       "      <td>League of Ordinary Gentlemen, A (2004)</td>\n",
       "      <td>2004</td>\n",
       "      <td>NaN</td>\n",
       "    </tr>\n",
       "    <tr>\n",
       "      <th>7195</th>\n",
       "      <td>88515</td>\n",
       "      <td>Blitz (2011)</td>\n",
       "      <td>2011</td>\n",
       "      <td>NaN</td>\n",
       "    </tr>\n",
       "    <tr>\n",
       "      <th>7199</th>\n",
       "      <td>100302</td>\n",
       "      <td>Upside Down (2012)</td>\n",
       "      <td>2012</td>\n",
       "      <td>NaN</td>\n",
       "    </tr>\n",
       "    <tr>\n",
       "      <th>7202</th>\n",
       "      <td>65193</td>\n",
       "      <td>Wild Child (2008)</td>\n",
       "      <td>2008</td>\n",
       "      <td>NaN</td>\n",
       "    </tr>\n",
       "    <tr>\n",
       "      <th>7208</th>\n",
       "      <td>8130</td>\n",
       "      <td>Girl Next Door, The (1999)</td>\n",
       "      <td>1999</td>\n",
       "      <td>NaN</td>\n",
       "    </tr>\n",
       "  </tbody>\n",
       "</table>\n",
       "<p>1304 rows × 4 columns</p>\n",
       "</div>"
      ],
      "text/plain": [
       "        item                                       title year_title director\n",
       "155     1073  Willy Wonka & the Chocolate Factory (1971)       1971      NaN\n",
       "194     8784                         Garden State (2004)       2004      NaN\n",
       "327     4246                Bridget Jones's Diary (2001)       2001      NaN\n",
       "376     1500                  Grosse Pointe Blank (1997)       1997      NaN\n",
       "434     2710             Blair Witch Project, The (1999)       1999      NaN\n",
       "...      ...                                         ...        ...      ...\n",
       "7180   32302      League of Ordinary Gentlemen, A (2004)       2004      NaN\n",
       "7195   88515                                Blitz (2011)       2011      NaN\n",
       "7199  100302                          Upside Down (2012)       2012      NaN\n",
       "7202   65193                           Wild Child (2008)       2008      NaN\n",
       "7208    8130                  Girl Next Door, The (1999)       1999      NaN\n",
       "\n",
       "[1304 rows x 4 columns]"
      ]
     },
     "execution_count": 202,
     "metadata": {},
     "output_type": "execute_result"
    }
   ],
   "source": [
    "title_director = pd.merge(left=dataframe['title'], right=dataframe['director'], how='outer', on='item')\n",
    "title_director[title_director['director'].isna()]"
   ]
  },
  {
   "cell_type": "code",
   "execution_count": 303,
   "id": "46358c59-aba9-421c-9198-c00e98baba7e",
   "metadata": {},
   "outputs": [
    {
     "name": "stdout",
     "output_type": "stream",
     "text": [
      "감독 평균 작품수: 4\n",
      "작품 개수가 평균 이상인 감독수: 595, 작품 개수가 평균 미만인 감독수: 745\n"
     ]
    }
   ],
   "source": [
    "all_cnt = len(dataframe['director'])\n",
    "avg_data_cnt = all_cnt // dataframe['director']['director'].nunique()\n",
    "director_stat = dataframe['director']['director'].value_counts()\n",
    "upper_cnt = (director_stat>=avg_data_cnt).sum()\n",
    "lower_cnt = (director_stat<avg_data_cnt).sum()\n",
    "\n",
    "print(f'감독 평균 작품수: {avg_data_cnt}')\n",
    "print(f'작품 개수가 평균 이상인 감독수: {upper_cnt}, 작품 개수가 평균 미만인 감독수: {lower_cnt}')"
   ]
  },
  {
   "cell_type": "markdown",
   "id": "cbcae52a-016a-4133-a926-8203bb9b94cb",
   "metadata": {},
   "source": [
    "### User 관련 파일"
   ]
  },
  {
   "cell_type": "markdown",
   "id": "62e437a2-a7ed-43db-a98c-0c8658258fe1",
   "metadata": {},
   "source": [
    "#### train 파일"
   ]
  },
  {
   "cell_type": "code",
   "execution_count": 304,
   "id": "c803057f-f936-46ce-aa2e-90a23787c258",
   "metadata": {
    "tags": []
   },
   "outputs": [
    {
     "name": "stderr",
     "output_type": "stream",
     "text": [
      "/tmp/ipykernel_377/1496759045.py:4: FutureWarning: Treating datetime data as categorical rather than numeric in `.describe` is deprecated and will be removed in a future version of pandas. Specify `datetime_is_numeric=True` to silence this warning and adopt the future behavior now.\n",
      "  dataframe['train'].describe(include='all')\n"
     ]
    },
    {
     "data": {
      "text/html": [
       "<div>\n",
       "<style scoped>\n",
       "    .dataframe tbody tr th:only-of-type {\n",
       "        vertical-align: middle;\n",
       "    }\n",
       "\n",
       "    .dataframe tbody tr th {\n",
       "        vertical-align: top;\n",
       "    }\n",
       "\n",
       "    .dataframe thead th {\n",
       "        text-align: right;\n",
       "    }\n",
       "</style>\n",
       "<table border=\"1\" class=\"dataframe\">\n",
       "  <thead>\n",
       "    <tr style=\"text-align: right;\">\n",
       "      <th></th>\n",
       "      <th>user</th>\n",
       "      <th>item</th>\n",
       "      <th>time</th>\n",
       "    </tr>\n",
       "  </thead>\n",
       "  <tbody>\n",
       "    <tr>\n",
       "      <th>count</th>\n",
       "      <td>5154471</td>\n",
       "      <td>5154471</td>\n",
       "      <td>5154471</td>\n",
       "    </tr>\n",
       "    <tr>\n",
       "      <th>unique</th>\n",
       "      <td>31360</td>\n",
       "      <td>6807</td>\n",
       "      <td>5074973</td>\n",
       "    </tr>\n",
       "    <tr>\n",
       "      <th>top</th>\n",
       "      <td>8405</td>\n",
       "      <td>2571</td>\n",
       "      <td>2010-02-25 22:00:19</td>\n",
       "    </tr>\n",
       "    <tr>\n",
       "      <th>freq</th>\n",
       "      <td>2912</td>\n",
       "      <td>19699</td>\n",
       "      <td>63</td>\n",
       "    </tr>\n",
       "    <tr>\n",
       "      <th>first</th>\n",
       "      <td>NaN</td>\n",
       "      <td>NaN</td>\n",
       "      <td>2005-04-11 11:56:25</td>\n",
       "    </tr>\n",
       "    <tr>\n",
       "      <th>last</th>\n",
       "      <td>NaN</td>\n",
       "      <td>NaN</td>\n",
       "      <td>2015-03-31 05:50:52</td>\n",
       "    </tr>\n",
       "  </tbody>\n",
       "</table>\n",
       "</div>"
      ],
      "text/plain": [
       "           user     item                 time\n",
       "count   5154471  5154471              5154471\n",
       "unique    31360     6807              5074973\n",
       "top        8405     2571  2010-02-25 22:00:19\n",
       "freq       2912    19699                   63\n",
       "first       NaN      NaN  2005-04-11 11:56:25\n",
       "last        NaN      NaN  2015-03-31 05:50:52"
      ]
     },
     "execution_count": 304,
     "metadata": {},
     "output_type": "execute_result"
    }
   ],
   "source": [
    "dataframe['train']['item'] = dataframe['train']['item'].astype(str)\n",
    "dataframe['train']['user'] = dataframe['train']['user'].astype(str)\n",
    "dataframe['train']['time'] = pd.to_datetime(dataframe['train']['time'], unit='s')\n",
    "dataframe['train'].describe(include='all')"
   ]
  },
  {
   "cell_type": "code",
   "execution_count": 305,
   "id": "4595e717-212f-493c-b039-aa191a739f1e",
   "metadata": {
    "tags": []
   },
   "outputs": [
    {
     "name": "stdout",
     "output_type": "stream",
     "text": [
      "전체 평가수\n",
      "5154471\n",
      "동시간에 평가가 2개 이상인 경우\n",
      "69137\n"
     ]
    }
   ],
   "source": [
    "print('전체 평가수')\n",
    "print(len(dataframe['train']))\n",
    "print('동시간에 평가가 2개 이상인 경우')\n",
    "print((dataframe['train']['time'].value_counts()>1).sum())"
   ]
  },
  {
   "cell_type": "code",
   "execution_count": 306,
   "id": "787ef9a3-258c-4073-9a9d-33f3a4ba91fe",
   "metadata": {
    "tags": []
   },
   "outputs": [
    {
     "name": "stdout",
     "output_type": "stream",
     "text": [
      "유저별 평가한 작품수 평균: 164\n",
      "시청 작품수가 평균 이상인 유저수: 10315, 시청 작품수가 평균 미만이 유저수: 21045\n"
     ]
    }
   ],
   "source": [
    "all_cnt = len(dataframe['train'])\n",
    "avg_data_cnt = all_cnt // dataframe['train']['user'].nunique()\n",
    "train_stat = dataframe['train']['user'].value_counts()\n",
    "upper_cnt = (train_stat>=avg_data_cnt).sum()\n",
    "lower_cnt = (train_stat<avg_data_cnt).sum()\n",
    "\n",
    "print(f'유저별 평가한 작품수 평균: {avg_data_cnt}')\n",
    "print(f'시청 작품수가 평균 이상인 유저수: {upper_cnt}, 시청 작품수가 평균 미만이 유저수: {lower_cnt}')"
   ]
  },
  {
   "cell_type": "markdown",
   "id": "3cbfc4c3-3f82-424f-86bb-9b690de9e222",
   "metadata": {},
   "source": [
    "## 통합 분석"
   ]
  },
  {
   "cell_type": "markdown",
   "id": "4caf6987-eab6-4645-b0bc-c7559af15162",
   "metadata": {},
   "source": [
    "### 장르와 user 정보 연관분석"
   ]
  },
  {
   "cell_type": "code",
   "execution_count": 234,
   "id": "d36d7ca1-20d7-40fc-9aca-50a435d9ff7d",
   "metadata": {},
   "outputs": [
    {
     "data": {
      "text/plain": [
       "Drama          2511407\n",
       "Comedy         1719017\n",
       "Action         1504902\n",
       "Thriller       1435678\n",
       "Adventure      1203283\n",
       "Crime          1014480\n",
       "Romance         893843\n",
       "Sci-Fi          857851\n",
       "Fantasy         617807\n",
       "Mystery         493005\n",
       "Children        397929\n",
       "Animation       370761\n",
       "Horror          343730\n",
       "War             307170\n",
       "Musical         199635\n",
       "Western          95374\n",
       "Documentary      90050\n",
       "Film-Noir        70402\n",
       "Name: genre, dtype: int64"
      ]
     },
     "execution_count": 234,
     "metadata": {},
     "output_type": "execute_result"
    }
   ],
   "source": [
    "train_genre = pd.merge(left=dataframe['train'], right=dataframe['genre'], how='outer', on='item')"
   ]
  },
  {
   "cell_type": "code",
   "execution_count": 318,
   "id": "c3d7eb22-4bef-4c73-aeeb-9a070b9b906a",
   "metadata": {},
   "outputs": [
    {
     "name": "stdout",
     "output_type": "stream",
     "text": [
      "장르별 평균 평가수: 784795\n",
      "장르별 평균 평가수 이상인 작품수: 8, 장르별 평균 평가수 미만인 작품수: 10\n"
     ]
    }
   ],
   "source": [
    "all_cnt = len(train_genre)\n",
    "avg_data_cnt = all_cnt // train_genre['genre'].nunique()\n",
    "train_genre_stat = train_genre['genre'].value_counts()\n",
    "upper_cnt = (train_genre_stat>=avg_data_cnt).sum()\n",
    "lower_cnt = (train_genre_stat<avg_data_cnt).sum()\n",
    "\n",
    "print(f'장르별 평균 평가수: {avg_data_cnt}')\n",
    "print(f'장르별 평균 평가수 이상인 작품수: {upper_cnt}, 장르별 평균 평가수 미만인 작품수: {lower_cnt}')"
   ]
  },
  {
   "cell_type": "code",
   "execution_count": 317,
   "id": "6bef9448-6e2c-4d1a-9290-94ba984d9cd2",
   "metadata": {},
   "outputs": [
    {
     "data": {
      "text/plain": [
       "<AxesSubplot:xlabel='count', ylabel='genre'>"
      ]
     },
     "execution_count": 317,
     "metadata": {},
     "output_type": "execute_result"
    },
    {
     "data": {
      "image/png": "[encoded data removed]",
      "text/plain": [
       "<Figure size 432x288 with 1 Axes>"
      ]
     },
     "metadata": {
      "needs_background": "light"
     },
     "output_type": "display_data"
    }
   ],
   "source": [
    "sns.countplot(y='genre', data=train_genre, order=sorted(train_genre['genre'].unique()))"
   ]
  },
  {
   "cell_type": "markdown",
   "id": "22e91925-547c-4e39-bf45-b3ec921d5b92",
   "metadata": {},
   "source": [
    "### 시간과 user 정보 연관분석"
   ]
  },
  {
   "cell_type": "code",
   "execution_count": 236,
   "id": "6568e886-15ae-4b06-80a8-1cd6157cfc74",
   "metadata": {},
   "outputs": [
    {
     "data": {
      "text/plain": [
       "array(['2009-01-01T04:02:09.000000000', '2011-04-16T09:10:16.000000000',\n",
       "       '2010-10-30T11:21:02.000000000', ...,\n",
       "       '2014-01-30T15:47:46.000000000', '2013-06-02T03:27:55.000000000',\n",
       "       '2013-06-16T11:26:12.000000000'], dtype='datetime64[ns]')"
      ]
     },
     "execution_count": 236,
     "metadata": {},
     "output_type": "execute_result"
    }
   ],
   "source": [
    "train_genre['time'].unique()"
   ]
  },
  {
   "cell_type": "code",
   "execution_count": 329,
   "id": "af7ea78a-9bce-41c0-a3f7-bb03e7454314",
   "metadata": {},
   "outputs": [
    {
     "name": "stdout",
     "output_type": "stream",
     "text": [
      "2005-04-11 11:56:25    1\n",
      "2005-04-11 12:02:16    4\n",
      "2005-04-11 12:02:55    5\n",
      "2005-04-11 12:13:45    2\n",
      "2005-04-11 12:20:04    3\n",
      "                      ..\n",
      "2015-03-31 05:44:23    5\n",
      "2015-03-31 05:44:40    3\n",
      "2015-03-31 05:50:01    3\n",
      "2015-03-31 05:50:48    3\n",
      "2015-03-31 05:50:52    3\n",
      "Name: time, Length: 5074973, dtype: int64\n"
     ]
    },
    {
     "data": {
      "text/plain": [
       "[<matplotlib.lines.Line2D at 0x7f3ffdf8c9d0>]"
      ]
     },
     "execution_count": 329,
     "metadata": {},
     "output_type": "execute_result"
    },
    {
     "data": {
      "image/png": "[encoded data removed]",
      "text/plain": [
       "<Figure size 1440x1080 with 1 Axes>"
      ]
     },
     "metadata": {
      "needs_background": "light"
     },
     "output_type": "display_data"
    }
   ],
   "source": [
    "plt.figure(figsize = (20,15))\n",
    "time_count = train_genre['time'].value_counts().sort_index()\n",
    "print(time_count)\n",
    "plt.plot(time_count.index, time_count.values)"
   ]
  },
  {
   "cell_type": "markdown",
   "id": "052701c1-7234-4448-a13f-d4bb35ffcacc",
   "metadata": {},
   "source": [
    "2005년부터 2015년 사이의 데이터로 이루어져 있음을 확인할 수 있다."
   ]
  },
  {
   "cell_type": "code",
   "execution_count": 240,
   "id": "348310fa-24d8-461e-a49b-09b85e479336",
   "metadata": {},
   "outputs": [],
   "source": [
    "train_genre['year'] = train_genre['time'].dt.year\n",
    "train_genre['year'].unique()"
   ]
  },
  {
   "cell_type": "code",
   "execution_count": 320,
   "id": "6081adcc-5711-4abd-8116-67158fb6b500",
   "metadata": {},
   "outputs": [
    {
     "data": {
      "text/plain": [
       "<AxesSubplot:xlabel='year', ylabel='count'>"
      ]
     },
     "execution_count": 320,
     "metadata": {},
     "output_type": "execute_result"
    },
    {
     "data": {
      "image/png": "[encoded data removed]",
      "text/plain": [
       "<Figure size 720x504 with 1 Axes>"
      ]
     },
     "metadata": {
      "needs_background": "light"
     },
     "output_type": "display_data"
    }
   ],
   "source": [
    "plt.figure(figsize = (10,7))\n",
    "sns.countplot(x='year', data=train_genre)"
   ]
  },
  {
   "cell_type": "code",
   "execution_count": 321,
   "id": "78f42f44-c2c0-4aa4-91f3-d9efb94f48ed",
   "metadata": {},
   "outputs": [
    {
     "name": "stderr",
     "output_type": "stream",
     "text": [
      "/tmp/ipykernel_377/804283228.py:1: FutureWarning: Using the level keyword in DataFrame and Series aggregations is deprecated and will be removed in a future version. Use groupby instead. df.sum(level=1) should use df.groupby(level=1).sum().\n",
      "  onehot_genre = pd.get_dummies(train_genre, columns=['genre']).set_index('user').sum(level=0).reset_index()\n",
      "/tmp/ipykernel_377/804283228.py:1: FutureWarning: Dropping invalid columns in DataFrameGroupBy.add is deprecated. In a future version, a TypeError will be raised. Before calling .add, select only columns which should be valid for the function.\n",
      "  onehot_genre = pd.get_dummies(train_genre, columns=['genre']).set_index('user').sum(level=0).reset_index()\n"
     ]
    }
   ],
   "source": [
    "onehot_genre = pd.get_dummies(train_genre, columns=['genre']).set_index('user').sum(level=0).reset_index()"
   ]
  },
  {
   "cell_type": "markdown",
   "id": "06d56509-3683-469e-aa58-1ad3314663dc",
   "metadata": {},
   "source": [
    "장르별 분포와 시간별 분포에서 근 차이가 보이지는 않았다."
   ]
  },
  {
   "cell_type": "code",
   "execution_count": 322,
   "id": "31af9989-69b7-4515-87b1-3a4dacd506db",
   "metadata": {},
   "outputs": [
    {
     "data": {
      "text/plain": [
       "<AxesSubplot:xlabel='year', ylabel='count'>"
      ]
     },
     "execution_count": 322,
     "metadata": {},
     "output_type": "execute_result"
    },
    {
     "data": {
      "image/png": "[encoded data removed]",
      "text/plain": [
       "<Figure size 720x504 with 1 Axes>"
      ]
     },
     "metadata": {
      "needs_background": "light"
     },
     "output_type": "display_data"
    }
   ],
   "source": [
    "plt.figure(figsize = (10,7))\n",
    "sns.countplot(x='year', hue='genre', data=train_genre)"
   ]
  },
  {
   "cell_type": "code",
   "execution_count": 250,
   "id": "3c6ad166-df83-4949-b4c1-e5388c44ceb1",
   "metadata": {},
   "outputs": [
    {
     "data": {
      "text/plain": [
       "<AxesSubplot:xlabel='month', ylabel='count'>"
      ]
     },
     "execution_count": 250,
     "metadata": {},
     "output_type": "execute_result"
    },
    {
     "data": {
      "image/png": "[encoded data removed]",
      "text/plain": [
       "<Figure size 720x504 with 1 Axes>"
      ]
     },
     "metadata": {
      "needs_background": "light"
     },
     "output_type": "display_data"
    }
   ],
   "source": [
    "train_genre['month'] = train_genre['time'].dt.month\n",
    "plt.figure(figsize = (10,7))\n",
    "sns.countplot(x='month', hue='genre', data=train_genre)"
   ]
  },
  {
   "cell_type": "code",
   "execution_count": null,
   "id": "350b8dbe-23db-43c4-876a-aad1b55330b6",
   "metadata": {},
   "outputs": [],
   "source": []
  }
 ],
 "metadata": {
  "kernelspec": {
   "display_name": "Python 3 (ipykernel)",
   "language": "python",
   "name": "python3"
  },
  "language_info": {
   "codemirror_mode": {
    "name": "ipython",
    "version": 3
   },
   "file_extension": ".py",
   "mimetype": "text/x-python",
   "name": "python",
   "nbconvert_exporter": "python",
   "pygments_lexer": "ipython3",
   "version": "3.8.5"
  }
 },
 "nbformat": 4,
 "nbformat_minor": 5
}
